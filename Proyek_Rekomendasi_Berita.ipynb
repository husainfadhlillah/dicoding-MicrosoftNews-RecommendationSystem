{
 "cells": [
  {
   "cell_type": "markdown",
   "id": "af0fbea7",
   "metadata": {},
   "source": [
    "# **Proyek Akhir: Membuat Model Sistem Rekomendasi Berita**"
   ]
  },
  {
   "cell_type": "markdown",
   "id": "a351e1f7",
   "metadata": {},
   "source": [
    "- **Nama:** Muhammad Husain Fadhlillah\n",
    "- **Email Student:** mc006d5y2343@student.devacademy.id\n",
    "- **Cohort ID:** MC006D5Y2343"
   ]
  },
  {
   "cell_type": "markdown",
   "id": "f22f3b23",
   "metadata": {},
   "source": [
    "## **I. Pendahuluan**\n",
    "Proyek ini bertujuan untuk membangun sistem rekomendasi berita menggunakan dua pendekatan utama: **Content-Based Filtering** dan **Collaborative Filtering**. Tujuannya adalah memberikan rekomendasi yang dipersonalisasi kepada pengguna berdasarkan konten berita dan riwayat interaksi mereka."
   ]
  },
  {
   "cell_type": "markdown",
   "id": "628d3e2e",
   "metadata": {},
   "source": [
    "### **Menyiapkan Library yang Dibutuhkan**"
   ]
  },
  {
   "cell_type": "code",
   "execution_count": 1,
   "id": "f6b36e83",
   "metadata": {},
   "outputs": [
    {
     "name": "stdout",
     "output_type": "stream",
     "text": [
      "Semua library berhasil diimpor.\n"
     ]
    }
   ],
   "source": [
    "# Untuk mengabaikan peringatan yang tidak relevan agar output lebih bersih\n",
    "import warnings\n",
    "warnings.filterwarnings('ignore')\n",
    "\n",
    "# Library untuk analisis dan manipulasi data\n",
    "import pandas as pd\n",
    "import numpy as np\n",
    "from collections import defaultdict\n",
    "\n",
    "# Library untuk visualisasi data\n",
    "import matplotlib.pyplot as plt\n",
    "import seaborn as sns\n",
    "\n",
    "# Library untuk pemodelan Content-Based Filtering\n",
    "from sklearn.feature_extraction.text import TfidfVectorizer\n",
    "from sklearn.metrics.pairwise import cosine_similarity\n",
    "\n",
    "# Library untuk pemodelan Collaborative Filtering\n",
    "# %pip install scikit-surprise -q\n",
    "from surprise import Reader, Dataset, SVD\n",
    "from surprise.model_selection import train_test_split as surprise_train_test_split\n",
    "\n",
    "# Mengatur opsi tampilan pandas\n",
    "pd.set_option('display.max_columns', None)\n",
    "\n",
    "print(\"Semua library berhasil diimpor.\")"
   ]
  },
  {
   "cell_type": "markdown",
   "id": "9c96acca",
   "metadata": {},
   "source": [
    "## **II. Data Understanding**\n",
    "Tahap ini berfokus pada pemuatan dan pemahaman awal terhadap dataset. Kita akan menggunakan dataset MIND-small dari Kaggle.\n",
    "\n",
    "Sumber Dataset: **MIND: Microsoft News Recommendation Dataset** [https://www.kaggle.com/datasets/arashnic/mind-news-dataset]"
   ]
  },
  {
   "cell_type": "markdown",
   "id": "be0d06cb",
   "metadata": {},
   "source": [
    "### **Memuat Dataset**\n",
    "Kita akan memuat file `news.tsv` dan `behaviors.tsv` ke dalam DataFrame pandas."
   ]
  },
  {
   "cell_type": "code",
   "execution_count": 2,
   "id": "5497a253",
   "metadata": {},
   "outputs": [
    {
     "name": "stdout",
     "output_type": "stream",
     "text": [
      "File './MINDsmall_train/news.tsv' berhasil dimuat.\n",
      "File './MINDsmall_train/behaviors.tsv' berhasil dimuat.\n"
     ]
    }
   ],
   "source": [
    "# Fungsi untuk memuat data dengan penanganan error\n",
    "def load_data(file_path, column_names):\n",
    "    \"\"\"\n",
    "    Memuat data dari file TSV ke dalam DataFrame pandas.\n",
    "    \n",
    "    Args:\n",
    "        file_path (str): Path ke file tsv.\n",
    "        column_names (list): Daftar nama kolom untuk DataFrame.\n",
    "    \n",
    "    Returns:\n",
    "        DataFrame: DataFrame yang berisi data dari file.\n",
    "    \"\"\"\n",
    "    try:\n",
    "        df = pd.read_csv(file_path, sep='\\t', names=column_names)\n",
    "        print(f\"File '{file_path}' berhasil dimuat.\")\n",
    "        return df\n",
    "    except FileNotFoundError:\n",
    "        print(f\"Error: File '{file_path}' tidak ditemukan. Pastikan path file sudah benar.\")\n",
    "        return None\n",
    "\n",
    "# Path ke file dataset (sesuaikan jika perlu)\n",
    "path_to_news = './MINDsmall_train/news.tsv'\n",
    "path_to_behaviors = './MINDsmall_train/behaviors.tsv'\n",
    "\n",
    "# Mendefinisikan nama kolom berdasarkan dokumentasi dataset\n",
    "news_cols = ['News_ID', 'Category', 'SubCategory', 'Title', 'Abstract', 'URL', 'Title_Entities', 'Abstract_Entities']\n",
    "behaviors_cols = ['Impression_ID', 'User_ID', 'Time', 'History', 'Impressions']\n",
    "\n",
    "# Memuat data\n",
    "df_news = load_data(path_to_news, news_cols)\n",
    "df_behaviors = load_data(path_to_behaviors, behaviors_cols)"
   ]
  },
  {
   "cell_type": "markdown",
   "id": "53601073",
   "metadata": {},
   "source": [
    "### **Informasi Dasar Dataset**\n",
    "Melihat beberapa baris pertama, informasi, dan statistik deskriptif dari data."
   ]
  },
  {
   "cell_type": "code",
   "execution_count": 3,
   "id": "53752569",
   "metadata": {},
   "outputs": [
    {
     "name": "stdout",
     "output_type": "stream",
     "text": [
      "Contoh Data Berita (df_news):\n"
     ]
    },
    {
     "data": {
      "application/vnd.microsoft.datawrangler.viewer.v0+json": {
       "columns": [
        {
         "name": "index",
         "rawType": "int64",
         "type": "integer"
        },
        {
         "name": "News_ID",
         "rawType": "object",
         "type": "string"
        },
        {
         "name": "Category",
         "rawType": "object",
         "type": "string"
        },
        {
         "name": "SubCategory",
         "rawType": "object",
         "type": "string"
        },
        {
         "name": "Title",
         "rawType": "object",
         "type": "string"
        },
        {
         "name": "Abstract",
         "rawType": "object",
         "type": "string"
        },
        {
         "name": "URL",
         "rawType": "object",
         "type": "string"
        },
        {
         "name": "Title_Entities",
         "rawType": "object",
         "type": "string"
        },
        {
         "name": "Abstract_Entities",
         "rawType": "object",
         "type": "string"
        }
       ],
       "ref": "1c1b99c2-07cb-47e6-8b4d-b46b2cb12cf6",
       "rows": [
        [
         "0",
         "N55528",
         "lifestyle",
         "lifestyleroyals",
         "The Brands Queen Elizabeth, Prince Charles, and Prince Philip Swear By",
         "Shop the notebooks, jackets, and more that the royals can't live without.",
         "https://assets.msn.com/labs/mind/AAGH0ET.html",
         "[{\"Label\": \"Prince Philip, Duke of Edinburgh\", \"Type\": \"P\", \"WikidataId\": \"Q80976\", \"Confidence\": 1.0, \"OccurrenceOffsets\": [48], \"SurfaceForms\": [\"Prince Philip\"]}, {\"Label\": \"Charles, Prince of Wales\", \"Type\": \"P\", \"WikidataId\": \"Q43274\", \"Confidence\": 1.0, \"OccurrenceOffsets\": [28], \"SurfaceForms\": [\"Prince Charles\"]}, {\"Label\": \"Elizabeth II\", \"Type\": \"P\", \"WikidataId\": \"Q9682\", \"Confidence\": 0.97, \"OccurrenceOffsets\": [11], \"SurfaceForms\": [\"Queen Elizabeth\"]}]",
         "[]"
        ],
        [
         "1",
         "N19639",
         "health",
         "weightloss",
         "50 Worst Habits For Belly Fat",
         "These seemingly harmless habits are holding you back and keeping you from shedding that unwanted belly fat for good.",
         "https://assets.msn.com/labs/mind/AAB19MK.html",
         "[{\"Label\": \"Adipose tissue\", \"Type\": \"C\", \"WikidataId\": \"Q193583\", \"Confidence\": 1.0, \"OccurrenceOffsets\": [20], \"SurfaceForms\": [\"Belly Fat\"]}]",
         "[{\"Label\": \"Adipose tissue\", \"Type\": \"C\", \"WikidataId\": \"Q193583\", \"Confidence\": 1.0, \"OccurrenceOffsets\": [97], \"SurfaceForms\": [\"belly fat\"]}]"
        ],
        [
         "2",
         "N61837",
         "news",
         "newsworld",
         "The Cost of Trump's Aid Freeze in the Trenches of Ukraine's War",
         "Lt. Ivan Molchanets peeked over a parapet of sand bags at the front line of the war in Ukraine. Next to him was an empty helmet propped up to trick snipers, already perforated with multiple holes.",
         "https://assets.msn.com/labs/mind/AAJgNsz.html",
         "[]",
         "[{\"Label\": \"Ukraine\", \"Type\": \"G\", \"WikidataId\": \"Q212\", \"Confidence\": 0.946, \"OccurrenceOffsets\": [87], \"SurfaceForms\": [\"Ukraine\"]}]"
        ],
        [
         "3",
         "N53526",
         "health",
         "voices",
         "I Was An NBA Wife. Here's How It Affected My Mental Health.",
         "I felt like I was a fraud, and being an NBA wife didn't help that. In fact, it nearly destroyed me.",
         "https://assets.msn.com/labs/mind/AACk2N6.html",
         "[]",
         "[{\"Label\": \"National Basketball Association\", \"Type\": \"O\", \"WikidataId\": \"Q155223\", \"Confidence\": 1.0, \"OccurrenceOffsets\": [40], \"SurfaceForms\": [\"NBA\"]}]"
        ],
        [
         "4",
         "N38324",
         "health",
         "medical",
         "How to Get Rid of Skin Tags, According to a Dermatologist",
         "They seem harmless, but there's a very good reason you shouldn't ignore them. The post How to Get Rid of Skin Tags, According to a Dermatologist appeared first on Reader's Digest.",
         "https://assets.msn.com/labs/mind/AAAKEkt.html",
         "[{\"Label\": \"Skin tag\", \"Type\": \"C\", \"WikidataId\": \"Q3179593\", \"Confidence\": 1.0, \"OccurrenceOffsets\": [18], \"SurfaceForms\": [\"Skin Tags\"]}]",
         "[{\"Label\": \"Skin tag\", \"Type\": \"C\", \"WikidataId\": \"Q3179593\", \"Confidence\": 1.0, \"OccurrenceOffsets\": [105], \"SurfaceForms\": [\"Skin Tags\"]}, {\"Label\": \"Dermatology\", \"Type\": \"C\", \"WikidataId\": \"Q171171\", \"Confidence\": 1.0, \"OccurrenceOffsets\": [131], \"SurfaceForms\": [\"Dermatologist\"]}, {\"Label\": \"Reader's Digest\", \"Type\": \"M\", \"WikidataId\": \"Q371820\", \"Confidence\": 0.999, \"OccurrenceOffsets\": [163], \"SurfaceForms\": [\"Reader's Digest\"]}]"
        ]
       ],
       "shape": {
        "columns": 8,
        "rows": 5
       }
      },
      "text/html": [
       "<div>\n",
       "<style scoped>\n",
       "    .dataframe tbody tr th:only-of-type {\n",
       "        vertical-align: middle;\n",
       "    }\n",
       "\n",
       "    .dataframe tbody tr th {\n",
       "        vertical-align: top;\n",
       "    }\n",
       "\n",
       "    .dataframe thead th {\n",
       "        text-align: right;\n",
       "    }\n",
       "</style>\n",
       "<table border=\"1\" class=\"dataframe\">\n",
       "  <thead>\n",
       "    <tr style=\"text-align: right;\">\n",
       "      <th></th>\n",
       "      <th>News_ID</th>\n",
       "      <th>Category</th>\n",
       "      <th>SubCategory</th>\n",
       "      <th>Title</th>\n",
       "      <th>Abstract</th>\n",
       "      <th>URL</th>\n",
       "      <th>Title_Entities</th>\n",
       "      <th>Abstract_Entities</th>\n",
       "    </tr>\n",
       "  </thead>\n",
       "  <tbody>\n",
       "    <tr>\n",
       "      <th>0</th>\n",
       "      <td>N55528</td>\n",
       "      <td>lifestyle</td>\n",
       "      <td>lifestyleroyals</td>\n",
       "      <td>The Brands Queen Elizabeth, Prince Charles, an...</td>\n",
       "      <td>Shop the notebooks, jackets, and more that the...</td>\n",
       "      <td>https://assets.msn.com/labs/mind/AAGH0ET.html</td>\n",
       "      <td>[{\"Label\": \"Prince Philip, Duke of Edinburgh\",...</td>\n",
       "      <td>[]</td>\n",
       "    </tr>\n",
       "    <tr>\n",
       "      <th>1</th>\n",
       "      <td>N19639</td>\n",
       "      <td>health</td>\n",
       "      <td>weightloss</td>\n",
       "      <td>50 Worst Habits For Belly Fat</td>\n",
       "      <td>These seemingly harmless habits are holding yo...</td>\n",
       "      <td>https://assets.msn.com/labs/mind/AAB19MK.html</td>\n",
       "      <td>[{\"Label\": \"Adipose tissue\", \"Type\": \"C\", \"Wik...</td>\n",
       "      <td>[{\"Label\": \"Adipose tissue\", \"Type\": \"C\", \"Wik...</td>\n",
       "    </tr>\n",
       "    <tr>\n",
       "      <th>2</th>\n",
       "      <td>N61837</td>\n",
       "      <td>news</td>\n",
       "      <td>newsworld</td>\n",
       "      <td>The Cost of Trump's Aid Freeze in the Trenches...</td>\n",
       "      <td>Lt. Ivan Molchanets peeked over a parapet of s...</td>\n",
       "      <td>https://assets.msn.com/labs/mind/AAJgNsz.html</td>\n",
       "      <td>[]</td>\n",
       "      <td>[{\"Label\": \"Ukraine\", \"Type\": \"G\", \"WikidataId...</td>\n",
       "    </tr>\n",
       "    <tr>\n",
       "      <th>3</th>\n",
       "      <td>N53526</td>\n",
       "      <td>health</td>\n",
       "      <td>voices</td>\n",
       "      <td>I Was An NBA Wife. Here's How It Affected My M...</td>\n",
       "      <td>I felt like I was a fraud, and being an NBA wi...</td>\n",
       "      <td>https://assets.msn.com/labs/mind/AACk2N6.html</td>\n",
       "      <td>[]</td>\n",
       "      <td>[{\"Label\": \"National Basketball Association\", ...</td>\n",
       "    </tr>\n",
       "    <tr>\n",
       "      <th>4</th>\n",
       "      <td>N38324</td>\n",
       "      <td>health</td>\n",
       "      <td>medical</td>\n",
       "      <td>How to Get Rid of Skin Tags, According to a De...</td>\n",
       "      <td>They seem harmless, but there's a very good re...</td>\n",
       "      <td>https://assets.msn.com/labs/mind/AAAKEkt.html</td>\n",
       "      <td>[{\"Label\": \"Skin tag\", \"Type\": \"C\", \"WikidataI...</td>\n",
       "      <td>[{\"Label\": \"Skin tag\", \"Type\": \"C\", \"WikidataI...</td>\n",
       "    </tr>\n",
       "  </tbody>\n",
       "</table>\n",
       "</div>"
      ],
      "text/plain": [
       "  News_ID   Category      SubCategory  \\\n",
       "0  N55528  lifestyle  lifestyleroyals   \n",
       "1  N19639     health       weightloss   \n",
       "2  N61837       news        newsworld   \n",
       "3  N53526     health           voices   \n",
       "4  N38324     health          medical   \n",
       "\n",
       "                                               Title  \\\n",
       "0  The Brands Queen Elizabeth, Prince Charles, an...   \n",
       "1                      50 Worst Habits For Belly Fat   \n",
       "2  The Cost of Trump's Aid Freeze in the Trenches...   \n",
       "3  I Was An NBA Wife. Here's How It Affected My M...   \n",
       "4  How to Get Rid of Skin Tags, According to a De...   \n",
       "\n",
       "                                            Abstract  \\\n",
       "0  Shop the notebooks, jackets, and more that the...   \n",
       "1  These seemingly harmless habits are holding yo...   \n",
       "2  Lt. Ivan Molchanets peeked over a parapet of s...   \n",
       "3  I felt like I was a fraud, and being an NBA wi...   \n",
       "4  They seem harmless, but there's a very good re...   \n",
       "\n",
       "                                             URL  \\\n",
       "0  https://assets.msn.com/labs/mind/AAGH0ET.html   \n",
       "1  https://assets.msn.com/labs/mind/AAB19MK.html   \n",
       "2  https://assets.msn.com/labs/mind/AAJgNsz.html   \n",
       "3  https://assets.msn.com/labs/mind/AACk2N6.html   \n",
       "4  https://assets.msn.com/labs/mind/AAAKEkt.html   \n",
       "\n",
       "                                      Title_Entities  \\\n",
       "0  [{\"Label\": \"Prince Philip, Duke of Edinburgh\",...   \n",
       "1  [{\"Label\": \"Adipose tissue\", \"Type\": \"C\", \"Wik...   \n",
       "2                                                 []   \n",
       "3                                                 []   \n",
       "4  [{\"Label\": \"Skin tag\", \"Type\": \"C\", \"WikidataI...   \n",
       "\n",
       "                                   Abstract_Entities  \n",
       "0                                                 []  \n",
       "1  [{\"Label\": \"Adipose tissue\", \"Type\": \"C\", \"Wik...  \n",
       "2  [{\"Label\": \"Ukraine\", \"Type\": \"G\", \"WikidataId...  \n",
       "3  [{\"Label\": \"National Basketball Association\", ...  \n",
       "4  [{\"Label\": \"Skin tag\", \"Type\": \"C\", \"WikidataI...  "
      ]
     },
     "metadata": {},
     "output_type": "display_data"
    },
    {
     "name": "stdout",
     "output_type": "stream",
     "text": [
      "\n",
      "Contoh Data Perilaku (df_behaviors):\n"
     ]
    },
    {
     "data": {
      "application/vnd.microsoft.datawrangler.viewer.v0+json": {
       "columns": [
        {
         "name": "index",
         "rawType": "int64",
         "type": "integer"
        },
        {
         "name": "Impression_ID",
         "rawType": "int64",
         "type": "integer"
        },
        {
         "name": "User_ID",
         "rawType": "object",
         "type": "string"
        },
        {
         "name": "Time",
         "rawType": "object",
         "type": "string"
        },
        {
         "name": "History",
         "rawType": "object",
         "type": "string"
        },
        {
         "name": "Impressions",
         "rawType": "object",
         "type": "string"
        }
       ],
       "ref": "6fde0d8b-5ada-42ae-aee4-6723ce4cbee2",
       "rows": [
        [
         "0",
         "1",
         "U13740",
         "11/11/2019 9:05:58 AM",
         "N55189 N42782 N34694 N45794 N18445 N63302 N10414 N19347 N31801",
         "N55689-1 N35729-0"
        ],
        [
         "1",
         "2",
         "U91836",
         "11/12/2019 6:11:30 PM",
         "N31739 N6072 N63045 N23979 N35656 N43353 N8129 N1569 N17686 N13008 N21623 N6233 N14340 N48031 N62285 N44383 N23061 N16290 N6244 N45099 N58715 N59049 N7023 N50528 N42704 N46082 N8275 N15710 N59026 N8429 N30867 N56514 N19709 N31402 N31741 N54889 N9798 N62612 N2663 N16617 N6087 N13231 N63317 N61388 N59359 N51163 N30698 N34567 N54225 N32852 N55833 N64467 N3142 N13912 N29802 N44462 N29948 N4486 N5398 N14761 N47020 N65112 N31699 N37159 N61101 N14761 N3433 N10438 N61355 N21164 N22976 N2511 N48390 N58224 N48742 N35458 N24611 N37509 N21773 N41011 N19041 N25785",
         "N20678-0 N39317-0 N58114-0 N20495-0 N42977-0 N22407-0 N14592-0 N17059-1 N33677-0 N7821-0 N6890-0"
        ],
        [
         "2",
         "3",
         "U73700",
         "11/14/2019 7:01:48 AM",
         "N10732 N25792 N7563 N21087 N41087 N5445 N60384 N46616 N52500 N33164 N47289 N24233 N62058 N26378 N49475 N18870",
         "N50014-0 N23877-0 N35389-0 N49712-0 N16844-0 N59685-0 N23814-1 N23446-0 N64174-0 N11817-0 N60550-0 N48225-0 N45509-0 N56711-0 N46821-0 N48017-0 N8015-0 N5364-0 N48722-0 N55555-0 N37348-0 N40109-0 N59495-0 N36226-0 N38779-0 N47346-0 N48875-0 N10960-0 N29739-0 N50872-0 N50592-0 N13131-0 N3839-0 N12330-0 N47098-0 N51570-0"
        ],
        [
         "3",
         "4",
         "U34670",
         "11/11/2019 5:28:05 AM",
         "N45729 N2203 N871 N53880 N41375 N43142 N33013 N29757 N31825 N51891",
         "N35729-0 N33632-0 N49685-1 N27581-0"
        ],
        [
         "4",
         "5",
         "U8125",
         "11/12/2019 4:11:21 PM",
         "N10078 N56514 N14904 N33740",
         "N39985-0 N36050-0 N16096-0 N8400-1 N22407-0 N60408-0 N61497-0 N47412-0 N41220-0 N1940-0 N724-0 N11363-0 N261-0 N33883-0 N36807-0 N11967-0 N17896-0 N13486-0 N10413-0 N54274-0 N4247-0 N27497-0 N38512-0 N30253-0 N45389-0 N20015-0 N20678-0 N54003-0 N35850-0 N33261-0 N32010-0 N57426-0 N7419-0 N50023-0 N36446-0 N26940-0 N28495-0 N19318-0 N4936-0 N28414-0 N25108-0 N32791-0 N23563-0 N39317-0 N16166-0 N37058-0 N64851-0 N46992-0 N57327-0 N12995-0 N58363-0 N53084-0 N11094-0 N36436-0 N305-0 N58241-0 N33212-0 N6975-0 N58114-0 N3344-0 N25406-0 N4741-0 N33885-0 N20915-0 N44941-0 N57319-0 N36532-0 N61822-0 N20527-0"
        ]
       ],
       "shape": {
        "columns": 5,
        "rows": 5
       }
      },
      "text/html": [
       "<div>\n",
       "<style scoped>\n",
       "    .dataframe tbody tr th:only-of-type {\n",
       "        vertical-align: middle;\n",
       "    }\n",
       "\n",
       "    .dataframe tbody tr th {\n",
       "        vertical-align: top;\n",
       "    }\n",
       "\n",
       "    .dataframe thead th {\n",
       "        text-align: right;\n",
       "    }\n",
       "</style>\n",
       "<table border=\"1\" class=\"dataframe\">\n",
       "  <thead>\n",
       "    <tr style=\"text-align: right;\">\n",
       "      <th></th>\n",
       "      <th>Impression_ID</th>\n",
       "      <th>User_ID</th>\n",
       "      <th>Time</th>\n",
       "      <th>History</th>\n",
       "      <th>Impressions</th>\n",
       "    </tr>\n",
       "  </thead>\n",
       "  <tbody>\n",
       "    <tr>\n",
       "      <th>0</th>\n",
       "      <td>1</td>\n",
       "      <td>U13740</td>\n",
       "      <td>11/11/2019 9:05:58 AM</td>\n",
       "      <td>N55189 N42782 N34694 N45794 N18445 N63302 N104...</td>\n",
       "      <td>N55689-1 N35729-0</td>\n",
       "    </tr>\n",
       "    <tr>\n",
       "      <th>1</th>\n",
       "      <td>2</td>\n",
       "      <td>U91836</td>\n",
       "      <td>11/12/2019 6:11:30 PM</td>\n",
       "      <td>N31739 N6072 N63045 N23979 N35656 N43353 N8129...</td>\n",
       "      <td>N20678-0 N39317-0 N58114-0 N20495-0 N42977-0 N...</td>\n",
       "    </tr>\n",
       "    <tr>\n",
       "      <th>2</th>\n",
       "      <td>3</td>\n",
       "      <td>U73700</td>\n",
       "      <td>11/14/2019 7:01:48 AM</td>\n",
       "      <td>N10732 N25792 N7563 N21087 N41087 N5445 N60384...</td>\n",
       "      <td>N50014-0 N23877-0 N35389-0 N49712-0 N16844-0 N...</td>\n",
       "    </tr>\n",
       "    <tr>\n",
       "      <th>3</th>\n",
       "      <td>4</td>\n",
       "      <td>U34670</td>\n",
       "      <td>11/11/2019 5:28:05 AM</td>\n",
       "      <td>N45729 N2203 N871 N53880 N41375 N43142 N33013 ...</td>\n",
       "      <td>N35729-0 N33632-0 N49685-1 N27581-0</td>\n",
       "    </tr>\n",
       "    <tr>\n",
       "      <th>4</th>\n",
       "      <td>5</td>\n",
       "      <td>U8125</td>\n",
       "      <td>11/12/2019 4:11:21 PM</td>\n",
       "      <td>N10078 N56514 N14904 N33740</td>\n",
       "      <td>N39985-0 N36050-0 N16096-0 N8400-1 N22407-0 N6...</td>\n",
       "    </tr>\n",
       "  </tbody>\n",
       "</table>\n",
       "</div>"
      ],
      "text/plain": [
       "   Impression_ID User_ID                   Time  \\\n",
       "0              1  U13740  11/11/2019 9:05:58 AM   \n",
       "1              2  U91836  11/12/2019 6:11:30 PM   \n",
       "2              3  U73700  11/14/2019 7:01:48 AM   \n",
       "3              4  U34670  11/11/2019 5:28:05 AM   \n",
       "4              5   U8125  11/12/2019 4:11:21 PM   \n",
       "\n",
       "                                             History  \\\n",
       "0  N55189 N42782 N34694 N45794 N18445 N63302 N104...   \n",
       "1  N31739 N6072 N63045 N23979 N35656 N43353 N8129...   \n",
       "2  N10732 N25792 N7563 N21087 N41087 N5445 N60384...   \n",
       "3  N45729 N2203 N871 N53880 N41375 N43142 N33013 ...   \n",
       "4                        N10078 N56514 N14904 N33740   \n",
       "\n",
       "                                         Impressions  \n",
       "0                                  N55689-1 N35729-0  \n",
       "1  N20678-0 N39317-0 N58114-0 N20495-0 N42977-0 N...  \n",
       "2  N50014-0 N23877-0 N35389-0 N49712-0 N16844-0 N...  \n",
       "3                N35729-0 N33632-0 N49685-1 N27581-0  \n",
       "4  N39985-0 N36050-0 N16096-0 N8400-1 N22407-0 N6...  "
      ]
     },
     "metadata": {},
     "output_type": "display_data"
    }
   ],
   "source": [
    "# Menampilkan 5 baris pertama dari data berita\n",
    "if df_news is not None:\n",
    "    print(\"Contoh Data Berita (df_news):\")\n",
    "    display(df_news.head())\n",
    "\n",
    "# Menampilkan 5 baris pertama dari data perilaku\n",
    "if df_behaviors is not None:\n",
    "    print(\"\\nContoh Data Perilaku (df_behaviors):\")\n",
    "    display(df_behaviors.head())"
   ]
  },
  {
   "cell_type": "code",
   "execution_count": 4,
   "id": "76bf7f39",
   "metadata": {},
   "outputs": [
    {
     "name": "stdout",
     "output_type": "stream",
     "text": [
      "Informasi df_news:\n",
      "<class 'pandas.core.frame.DataFrame'>\n",
      "RangeIndex: 51282 entries, 0 to 51281\n",
      "Data columns (total 8 columns):\n",
      " #   Column             Non-Null Count  Dtype \n",
      "---  ------             --------------  ----- \n",
      " 0   News_ID            51282 non-null  object\n",
      " 1   Category           51282 non-null  object\n",
      " 2   SubCategory        51282 non-null  object\n",
      " 3   Title              51282 non-null  object\n",
      " 4   Abstract           48616 non-null  object\n",
      " 5   URL                51282 non-null  object\n",
      " 6   Title_Entities     51279 non-null  object\n",
      " 7   Abstract_Entities  51278 non-null  object\n",
      "dtypes: object(8)\n",
      "memory usage: 3.1+ MB\n",
      "\n",
      "Informasi df_behaviors:\n",
      "<class 'pandas.core.frame.DataFrame'>\n",
      "RangeIndex: 156965 entries, 0 to 156964\n",
      "Data columns (total 5 columns):\n",
      " #   Column         Non-Null Count   Dtype \n",
      "---  ------         --------------   ----- \n",
      " 0   Impression_ID  156965 non-null  int64 \n",
      " 1   User_ID        156965 non-null  object\n",
      " 2   Time           156965 non-null  object\n",
      " 3   History        153727 non-null  object\n",
      " 4   Impressions    156965 non-null  object\n",
      "dtypes: int64(1), object(4)\n",
      "memory usage: 6.0+ MB\n"
     ]
    }
   ],
   "source": [
    "# Menampilkan informasi ringkas tentang DataFrame berita\n",
    "if df_news is not None:\n",
    "    print(\"Informasi df_news:\")\n",
    "    df_news.info()\n",
    "\n",
    "# Menampilkan informasi ringkas tentang DataFrame perilaku\n",
    "if df_behaviors is not None:\n",
    "    print(\"\\nInformasi df_behaviors:\")\n",
    "    df_behaviors.info()"
   ]
  },
  {
   "cell_type": "markdown",
   "id": "63f5ac54",
   "metadata": {},
   "source": [
    "### **Exploratory Data Analysis (EDA)**\n",
    "Melakukan analisis data eksplorasi untuk memahami distribusi data."
   ]
  },
  {
   "cell_type": "markdown",
   "id": "b79f63c3",
   "metadata": {},
   "source": [
    "#### **Distribusi Kategori Berita**"
   ]
  },
  {
   "cell_type": "code",
   "execution_count": 5,
   "id": "d0d1067a",
   "metadata": {},
   "outputs": [
    {
     "data": {
      "image/png": "[encoded data removed]",
      "text/plain": [
       "<Figure size 1200x600 with 1 Axes>"
      ]
     },
     "metadata": {},
     "output_type": "display_data"
    }
   ],
   "source": [
    "if df_news is not None:\n",
    "    plt.figure(figsize=(12, 6))\n",
    "    sns.countplot(y='Category', data=df_news, order=df_news['Category'].value_counts().index)\n",
    "    plt.title('Distribusi Kategori Berita')\n",
    "    plt.xlabel('Jumlah Artikel')\n",
    "    plt.ylabel('Kategori')\n",
    "    plt.show()"
   ]
  },
  {
   "cell_type": "markdown",
   "id": "c9bf1c5d",
   "metadata": {},
   "source": [
    "#### **Distribusi Panjang Riwayat Baca Pengguna**\n",
    "Visualisasi ini menunjukkan seberapa aktif para pengguna dalam membaca berita."
   ]
  },
  {
   "cell_type": "code",
   "execution_count": null,
   "id": "0ff87d00",
   "metadata": {},
   "outputs": [],
   "source": [
    "# Cek dulu apakah df_behaviors ada dan kolom History tidak kosong\n",
    "if 'df_behaviors' in globals() and not df_behaviors['History'].isnull().all():\n",
    "    # Menghitung panjang riwayat baca untuk setiap entri yang tidak null\n",
    "    history_lengths = df_behaviors['History'].dropna().apply(lambda x: len(x.split()))\n",
    "\n",
    "    plt.figure(figsize=(12, 6))\n",
    "    sns.histplot(history_lengths, bins=50, kde=True)\n",
    "    plt.title('Distribusi Panjang Riwayat Baca Pengguna')\n",
    "    plt.xlabel('Jumlah Berita dalam Riwayat')\n",
    "    plt.ylabel('Frekuensi')\n",
    "    plt.xlim(0, 100) # Batasi sumbu x agar lebih mudah dibaca\n",
    "    plt.show()"
   ]
  },
  {
   "cell_type": "markdown",
   "id": "ffd994ee",
   "metadata": {},
   "source": [
    "## **III. Data Preparation**\n",
    "Menyiapkan data agar siap untuk proses pemodelan."
   ]
  },
  {
   "cell_type": "markdown",
   "id": "8e5cbff7",
   "metadata": {},
   "source": [
    "### **Membersihkan dan Menggabungkan Data**\n",
    "Kita akan membersihkan data dari nilai null dan menggabungkan informasi yang relevan. Langkah ini krusial karena:\n",
    "- **Pembersihan Data:** Memastikan tidak ada data yang hilang pada fitur-fitur kunci (`Title`, `Category`) yang dapat menyebabkan error atau hasil yang tidak akurat.\n",
    "- **Sampling:** Mengambil sampel dari data perilaku dilakukan untuk mempercepat proses komputasi, terutama pada mesin dengan sumber daya terbatas, tanpa kehilangan representasi umum dari pola interaksi pengguna.\n",
    "- **Penggabungan Data:** Menggabungkan data interaksi (`df_interaction`) dengan detail berita (`df_news_cleaned`) diperlukan agar kita memiliki informasi konten untuk setiap berita yang diklik pengguna."
   ]
  },
  {
   "cell_type": "code",
   "execution_count": 6,
   "id": "7c8e421a",
   "metadata": {},
   "outputs": [
    {
     "name": "stdout",
     "output_type": "stream",
     "text": [
      "Jumlah data berita setelah dibersihkan: 51282\n",
      "Contoh data interaksi dari 'History':\n"
     ]
    },
    {
     "data": {
      "application/vnd.microsoft.datawrangler.viewer.v0+json": {
       "columns": [
        {
         "name": "index",
         "rawType": "int64",
         "type": "integer"
        },
        {
         "name": "User_ID",
         "rawType": "object",
         "type": "string"
        },
        {
         "name": "News_ID",
         "rawType": "object",
         "type": "string"
        }
       ],
       "ref": "94e6ec9f-b59f-4dcd-9a94-3315e274832f",
       "rows": [
        [
         "0",
         "U46778",
         "N17157"
        ],
        [
         "1",
         "U46778",
         "N28081"
        ],
        [
         "2",
         "U46778",
         "N58641"
        ],
        [
         "3",
         "U46778",
         "N3926"
        ],
        [
         "4",
         "U46778",
         "N16290"
        ]
       ],
       "shape": {
        "columns": 2,
        "rows": 5
       }
      },
      "text/html": [
       "<div>\n",
       "<style scoped>\n",
       "    .dataframe tbody tr th:only-of-type {\n",
       "        vertical-align: middle;\n",
       "    }\n",
       "\n",
       "    .dataframe tbody tr th {\n",
       "        vertical-align: top;\n",
       "    }\n",
       "\n",
       "    .dataframe thead th {\n",
       "        text-align: right;\n",
       "    }\n",
       "</style>\n",
       "<table border=\"1\" class=\"dataframe\">\n",
       "  <thead>\n",
       "    <tr style=\"text-align: right;\">\n",
       "      <th></th>\n",
       "      <th>User_ID</th>\n",
       "      <th>News_ID</th>\n",
       "    </tr>\n",
       "  </thead>\n",
       "  <tbody>\n",
       "    <tr>\n",
       "      <th>0</th>\n",
       "      <td>U46778</td>\n",
       "      <td>N17157</td>\n",
       "    </tr>\n",
       "    <tr>\n",
       "      <th>1</th>\n",
       "      <td>U46778</td>\n",
       "      <td>N28081</td>\n",
       "    </tr>\n",
       "    <tr>\n",
       "      <th>2</th>\n",
       "      <td>U46778</td>\n",
       "      <td>N58641</td>\n",
       "    </tr>\n",
       "    <tr>\n",
       "      <th>3</th>\n",
       "      <td>U46778</td>\n",
       "      <td>N3926</td>\n",
       "    </tr>\n",
       "    <tr>\n",
       "      <th>4</th>\n",
       "      <td>U46778</td>\n",
       "      <td>N16290</td>\n",
       "    </tr>\n",
       "  </tbody>\n",
       "</table>\n",
       "</div>"
      ],
      "text/plain": [
       "  User_ID News_ID\n",
       "0  U46778  N17157\n",
       "1  U46778  N28081\n",
       "2  U46778  N58641\n",
       "3  U46778   N3926\n",
       "4  U46778  N16290"
      ]
     },
     "metadata": {},
     "output_type": "display_data"
    },
    {
     "name": "stdout",
     "output_type": "stream",
     "text": [
      "Contoh data interaksi yang sudah digabungkan dengan detail berita:\n"
     ]
    },
    {
     "data": {
      "application/vnd.microsoft.datawrangler.viewer.v0+json": {
       "columns": [
        {
         "name": "index",
         "rawType": "int64",
         "type": "integer"
        },
        {
         "name": "User_ID",
         "rawType": "object",
         "type": "string"
        },
        {
         "name": "News_ID",
         "rawType": "object",
         "type": "string"
        },
        {
         "name": "Category",
         "rawType": "object",
         "type": "string"
        },
        {
         "name": "SubCategory",
         "rawType": "object",
         "type": "string"
        },
        {
         "name": "Title",
         "rawType": "object",
         "type": "string"
        },
        {
         "name": "Abstract",
         "rawType": "object",
         "type": "string"
        },
        {
         "name": "URL",
         "rawType": "object",
         "type": "string"
        },
        {
         "name": "Title_Entities",
         "rawType": "object",
         "type": "string"
        },
        {
         "name": "Abstract_Entities",
         "rawType": "object",
         "type": "string"
        }
       ],
       "ref": "ceca900f-e8ad-4e67-953f-68f2a0c7aa2b",
       "rows": [
        [
         "0",
         "U46778",
         "N17157",
         "foodanddrink",
         "foodnews",
         "We Tried Fatburger's Impossible Burger. Here's Our Review.",
         "We took a bite into the new Fatburger Impossible Burger, and were genuinely surprised by the result.",
         "https://assets.msn.com/labs/mind/AAIxfTr.html",
         "[{\"Label\": \"Impossible Foods\", \"Type\": \"O\", \"WikidataId\": \"Q21515382\", \"Confidence\": 1.0, \"OccurrenceOffsets\": [21], \"SurfaceForms\": [\"Impossible Burger\"]}, {\"Label\": \"Fatburger\", \"Type\": \"O\", \"WikidataId\": \"Q1397976\", \"Confidence\": 1.0, \"OccurrenceOffsets\": [9], \"SurfaceForms\": [\"Fatburger\"]}]",
         "[{\"Label\": \"Impossible Foods\", \"Type\": \"O\", \"WikidataId\": \"Q21515382\", \"Confidence\": 1.0, \"OccurrenceOffsets\": [38], \"SurfaceForms\": [\"Impossible Burger\"]}, {\"Label\": \"Fatburger\", \"Type\": \"O\", \"WikidataId\": \"Q1397976\", \"Confidence\": 1.0, \"OccurrenceOffsets\": [28], \"SurfaceForms\": [\"Fatburger\"]}]"
        ],
        [
         "1",
         "U69760",
         "N17157",
         "foodanddrink",
         "foodnews",
         "We Tried Fatburger's Impossible Burger. Here's Our Review.",
         "We took a bite into the new Fatburger Impossible Burger, and were genuinely surprised by the result.",
         "https://assets.msn.com/labs/mind/AAIxfTr.html",
         "[{\"Label\": \"Impossible Foods\", \"Type\": \"O\", \"WikidataId\": \"Q21515382\", \"Confidence\": 1.0, \"OccurrenceOffsets\": [21], \"SurfaceForms\": [\"Impossible Burger\"]}, {\"Label\": \"Fatburger\", \"Type\": \"O\", \"WikidataId\": \"Q1397976\", \"Confidence\": 1.0, \"OccurrenceOffsets\": [9], \"SurfaceForms\": [\"Fatburger\"]}]",
         "[{\"Label\": \"Impossible Foods\", \"Type\": \"O\", \"WikidataId\": \"Q21515382\", \"Confidence\": 1.0, \"OccurrenceOffsets\": [38], \"SurfaceForms\": [\"Impossible Burger\"]}, {\"Label\": \"Fatburger\", \"Type\": \"O\", \"WikidataId\": \"Q1397976\", \"Confidence\": 1.0, \"OccurrenceOffsets\": [28], \"SurfaceForms\": [\"Fatburger\"]}]"
        ],
        [
         "2",
         "U19468",
         "N17157",
         "foodanddrink",
         "foodnews",
         "We Tried Fatburger's Impossible Burger. Here's Our Review.",
         "We took a bite into the new Fatburger Impossible Burger, and were genuinely surprised by the result.",
         "https://assets.msn.com/labs/mind/AAIxfTr.html",
         "[{\"Label\": \"Impossible Foods\", \"Type\": \"O\", \"WikidataId\": \"Q21515382\", \"Confidence\": 1.0, \"OccurrenceOffsets\": [21], \"SurfaceForms\": [\"Impossible Burger\"]}, {\"Label\": \"Fatburger\", \"Type\": \"O\", \"WikidataId\": \"Q1397976\", \"Confidence\": 1.0, \"OccurrenceOffsets\": [9], \"SurfaceForms\": [\"Fatburger\"]}]",
         "[{\"Label\": \"Impossible Foods\", \"Type\": \"O\", \"WikidataId\": \"Q21515382\", \"Confidence\": 1.0, \"OccurrenceOffsets\": [38], \"SurfaceForms\": [\"Impossible Burger\"]}, {\"Label\": \"Fatburger\", \"Type\": \"O\", \"WikidataId\": \"Q1397976\", \"Confidence\": 1.0, \"OccurrenceOffsets\": [28], \"SurfaceForms\": [\"Fatburger\"]}]"
        ],
        [
         "3",
         "U93306",
         "N17157",
         "foodanddrink",
         "foodnews",
         "We Tried Fatburger's Impossible Burger. Here's Our Review.",
         "We took a bite into the new Fatburger Impossible Burger, and were genuinely surprised by the result.",
         "https://assets.msn.com/labs/mind/AAIxfTr.html",
         "[{\"Label\": \"Impossible Foods\", \"Type\": \"O\", \"WikidataId\": \"Q21515382\", \"Confidence\": 1.0, \"OccurrenceOffsets\": [21], \"SurfaceForms\": [\"Impossible Burger\"]}, {\"Label\": \"Fatburger\", \"Type\": \"O\", \"WikidataId\": \"Q1397976\", \"Confidence\": 1.0, \"OccurrenceOffsets\": [9], \"SurfaceForms\": [\"Fatburger\"]}]",
         "[{\"Label\": \"Impossible Foods\", \"Type\": \"O\", \"WikidataId\": \"Q21515382\", \"Confidence\": 1.0, \"OccurrenceOffsets\": [38], \"SurfaceForms\": [\"Impossible Burger\"]}, {\"Label\": \"Fatburger\", \"Type\": \"O\", \"WikidataId\": \"Q1397976\", \"Confidence\": 1.0, \"OccurrenceOffsets\": [28], \"SurfaceForms\": [\"Fatburger\"]}]"
        ],
        [
         "4",
         "U34856",
         "N17157",
         "foodanddrink",
         "foodnews",
         "We Tried Fatburger's Impossible Burger. Here's Our Review.",
         "We took a bite into the new Fatburger Impossible Burger, and were genuinely surprised by the result.",
         "https://assets.msn.com/labs/mind/AAIxfTr.html",
         "[{\"Label\": \"Impossible Foods\", \"Type\": \"O\", \"WikidataId\": \"Q21515382\", \"Confidence\": 1.0, \"OccurrenceOffsets\": [21], \"SurfaceForms\": [\"Impossible Burger\"]}, {\"Label\": \"Fatburger\", \"Type\": \"O\", \"WikidataId\": \"Q1397976\", \"Confidence\": 1.0, \"OccurrenceOffsets\": [9], \"SurfaceForms\": [\"Fatburger\"]}]",
         "[{\"Label\": \"Impossible Foods\", \"Type\": \"O\", \"WikidataId\": \"Q21515382\", \"Confidence\": 1.0, \"OccurrenceOffsets\": [38], \"SurfaceForms\": [\"Impossible Burger\"]}, {\"Label\": \"Fatburger\", \"Type\": \"O\", \"WikidataId\": \"Q1397976\", \"Confidence\": 1.0, \"OccurrenceOffsets\": [28], \"SurfaceForms\": [\"Fatburger\"]}]"
        ]
       ],
       "shape": {
        "columns": 9,
        "rows": 5
       }
      },
      "text/html": [
       "<div>\n",
       "<style scoped>\n",
       "    .dataframe tbody tr th:only-of-type {\n",
       "        vertical-align: middle;\n",
       "    }\n",
       "\n",
       "    .dataframe tbody tr th {\n",
       "        vertical-align: top;\n",
       "    }\n",
       "\n",
       "    .dataframe thead th {\n",
       "        text-align: right;\n",
       "    }\n",
       "</style>\n",
       "<table border=\"1\" class=\"dataframe\">\n",
       "  <thead>\n",
       "    <tr style=\"text-align: right;\">\n",
       "      <th></th>\n",
       "      <th>User_ID</th>\n",
       "      <th>News_ID</th>\n",
       "      <th>Category</th>\n",
       "      <th>SubCategory</th>\n",
       "      <th>Title</th>\n",
       "      <th>Abstract</th>\n",
       "      <th>URL</th>\n",
       "      <th>Title_Entities</th>\n",
       "      <th>Abstract_Entities</th>\n",
       "    </tr>\n",
       "  </thead>\n",
       "  <tbody>\n",
       "    <tr>\n",
       "      <th>0</th>\n",
       "      <td>U46778</td>\n",
       "      <td>N17157</td>\n",
       "      <td>foodanddrink</td>\n",
       "      <td>foodnews</td>\n",
       "      <td>We Tried Fatburger's Impossible Burger. Here's...</td>\n",
       "      <td>We took a bite into the new Fatburger Impossib...</td>\n",
       "      <td>https://assets.msn.com/labs/mind/AAIxfTr.html</td>\n",
       "      <td>[{\"Label\": \"Impossible Foods\", \"Type\": \"O\", \"W...</td>\n",
       "      <td>[{\"Label\": \"Impossible Foods\", \"Type\": \"O\", \"W...</td>\n",
       "    </tr>\n",
       "    <tr>\n",
       "      <th>1</th>\n",
       "      <td>U69760</td>\n",
       "      <td>N17157</td>\n",
       "      <td>foodanddrink</td>\n",
       "      <td>foodnews</td>\n",
       "      <td>We Tried Fatburger's Impossible Burger. Here's...</td>\n",
       "      <td>We took a bite into the new Fatburger Impossib...</td>\n",
       "      <td>https://assets.msn.com/labs/mind/AAIxfTr.html</td>\n",
       "      <td>[{\"Label\": \"Impossible Foods\", \"Type\": \"O\", \"W...</td>\n",
       "      <td>[{\"Label\": \"Impossible Foods\", \"Type\": \"O\", \"W...</td>\n",
       "    </tr>\n",
       "    <tr>\n",
       "      <th>2</th>\n",
       "      <td>U19468</td>\n",
       "      <td>N17157</td>\n",
       "      <td>foodanddrink</td>\n",
       "      <td>foodnews</td>\n",
       "      <td>We Tried Fatburger's Impossible Burger. Here's...</td>\n",
       "      <td>We took a bite into the new Fatburger Impossib...</td>\n",
       "      <td>https://assets.msn.com/labs/mind/AAIxfTr.html</td>\n",
       "      <td>[{\"Label\": \"Impossible Foods\", \"Type\": \"O\", \"W...</td>\n",
       "      <td>[{\"Label\": \"Impossible Foods\", \"Type\": \"O\", \"W...</td>\n",
       "    </tr>\n",
       "    <tr>\n",
       "      <th>3</th>\n",
       "      <td>U93306</td>\n",
       "      <td>N17157</td>\n",
       "      <td>foodanddrink</td>\n",
       "      <td>foodnews</td>\n",
       "      <td>We Tried Fatburger's Impossible Burger. Here's...</td>\n",
       "      <td>We took a bite into the new Fatburger Impossib...</td>\n",
       "      <td>https://assets.msn.com/labs/mind/AAIxfTr.html</td>\n",
       "      <td>[{\"Label\": \"Impossible Foods\", \"Type\": \"O\", \"W...</td>\n",
       "      <td>[{\"Label\": \"Impossible Foods\", \"Type\": \"O\", \"W...</td>\n",
       "    </tr>\n",
       "    <tr>\n",
       "      <th>4</th>\n",
       "      <td>U34856</td>\n",
       "      <td>N17157</td>\n",
       "      <td>foodanddrink</td>\n",
       "      <td>foodnews</td>\n",
       "      <td>We Tried Fatburger's Impossible Burger. Here's...</td>\n",
       "      <td>We took a bite into the new Fatburger Impossib...</td>\n",
       "      <td>https://assets.msn.com/labs/mind/AAIxfTr.html</td>\n",
       "      <td>[{\"Label\": \"Impossible Foods\", \"Type\": \"O\", \"W...</td>\n",
       "      <td>[{\"Label\": \"Impossible Foods\", \"Type\": \"O\", \"W...</td>\n",
       "    </tr>\n",
       "  </tbody>\n",
       "</table>\n",
       "</div>"
      ],
      "text/plain": [
       "  User_ID News_ID      Category SubCategory  \\\n",
       "0  U46778  N17157  foodanddrink    foodnews   \n",
       "1  U69760  N17157  foodanddrink    foodnews   \n",
       "2  U19468  N17157  foodanddrink    foodnews   \n",
       "3  U93306  N17157  foodanddrink    foodnews   \n",
       "4  U34856  N17157  foodanddrink    foodnews   \n",
       "\n",
       "                                               Title  \\\n",
       "0  We Tried Fatburger's Impossible Burger. Here's...   \n",
       "1  We Tried Fatburger's Impossible Burger. Here's...   \n",
       "2  We Tried Fatburger's Impossible Burger. Here's...   \n",
       "3  We Tried Fatburger's Impossible Burger. Here's...   \n",
       "4  We Tried Fatburger's Impossible Burger. Here's...   \n",
       "\n",
       "                                            Abstract  \\\n",
       "0  We took a bite into the new Fatburger Impossib...   \n",
       "1  We took a bite into the new Fatburger Impossib...   \n",
       "2  We took a bite into the new Fatburger Impossib...   \n",
       "3  We took a bite into the new Fatburger Impossib...   \n",
       "4  We took a bite into the new Fatburger Impossib...   \n",
       "\n",
       "                                             URL  \\\n",
       "0  https://assets.msn.com/labs/mind/AAIxfTr.html   \n",
       "1  https://assets.msn.com/labs/mind/AAIxfTr.html   \n",
       "2  https://assets.msn.com/labs/mind/AAIxfTr.html   \n",
       "3  https://assets.msn.com/labs/mind/AAIxfTr.html   \n",
       "4  https://assets.msn.com/labs/mind/AAIxfTr.html   \n",
       "\n",
       "                                      Title_Entities  \\\n",
       "0  [{\"Label\": \"Impossible Foods\", \"Type\": \"O\", \"W...   \n",
       "1  [{\"Label\": \"Impossible Foods\", \"Type\": \"O\", \"W...   \n",
       "2  [{\"Label\": \"Impossible Foods\", \"Type\": \"O\", \"W...   \n",
       "3  [{\"Label\": \"Impossible Foods\", \"Type\": \"O\", \"W...   \n",
       "4  [{\"Label\": \"Impossible Foods\", \"Type\": \"O\", \"W...   \n",
       "\n",
       "                                   Abstract_Entities  \n",
       "0  [{\"Label\": \"Impossible Foods\", \"Type\": \"O\", \"W...  \n",
       "1  [{\"Label\": \"Impossible Foods\", \"Type\": \"O\", \"W...  \n",
       "2  [{\"Label\": \"Impossible Foods\", \"Type\": \"O\", \"W...  \n",
       "3  [{\"Label\": \"Impossible Foods\", \"Type\": \"O\", \"W...  \n",
       "4  [{\"Label\": \"Impossible Foods\", \"Type\": \"O\", \"W...  "
      ]
     },
     "metadata": {},
     "output_type": "display_data"
    }
   ],
   "source": [
    "if df_news is not None and df_behaviors is not None:\n",
    "    # Membersihkan data berita dari nilai null pada kolom penting\n",
    "    df_news_cleaned = df_news.dropna(subset=['Title', 'Category'])\n",
    "    print(f\"Jumlah data berita setelah dibersihkan: {len(df_news_cleaned)}\")\n",
    "\n",
    "    # Mengambil sampel data perilaku untuk mempercepat proses (opsional, bisa di-skip jika komputasi kuat)\n",
    "    df_behaviors_sample = df_behaviors.sample(n=50000, random_state=42)\n",
    "\n",
    "    # Memproses kolom 'History' untuk mendapatkan interaksi user-item\n",
    "    user_history_list = []\n",
    "    for index, row in df_behaviors_sample.iterrows():\n",
    "        if isinstance(row['History'], str):\n",
    "            history_ids = row['History'].split()\n",
    "            for news_id in history_ids:\n",
    "                user_history_list.append({'User_ID': row['User_ID'], 'News_ID': news_id})\n",
    "\n",
    "    df_interaction = pd.DataFrame(user_history_list)\n",
    "    print(\"Contoh data interaksi dari 'History':\")\n",
    "    display(df_interaction.head())\n",
    "\n",
    "    # Menggabungkan data interaksi dengan data berita\n",
    "    df_full_interaction = pd.merge(df_interaction, df_news_cleaned, on='News_ID', how='inner')\n",
    "    print(\"Contoh data interaksi yang sudah digabungkan dengan detail berita:\")\n",
    "    display(df_full_interaction.head())"
   ]
  },
  {
   "cell_type": "markdown",
   "id": "035782ac",
   "metadata": {},
   "source": [
    "## **IV. Modeling: Content-Based Filtering**\n",
    "Membuat model yang merekomendasikan berita berdasarkan kemiripan konten."
   ]
  },
  {
   "cell_type": "code",
   "execution_count": 7,
   "id": "ee6916a3",
   "metadata": {},
   "outputs": [
    {
     "name": "stdout",
     "output_type": "stream",
     "text": [
      "TF-IDF Matrix berhasil dibuat. Matriks kemiripan akan dihitung secara dinamis.\n"
     ]
    }
   ],
   "source": [
    "# Mengambil data berita unik untuk model content-based\n",
    "df_content = df_news_cleaned.drop_duplicates(subset=['News_ID']).reset_index(drop=True)\n",
    "\n",
    "# Membuat fitur 'content' dengan menggabungkan judul dan kategori\n",
    "df_content['content'] = df_content['Title'] + ' ' + df_content['Category']\n",
    "\n",
    "# Inisialisasi TfidfVectorizer\n",
    "tfidf = TfidfVectorizer()\n",
    "\n",
    "# Melakukan fit dan transform pada data 'content'\n",
    "tfidf_matrix = tfidf.fit_transform(df_content['content'])\n",
    "\n",
    "# Membuat Series untuk mencocokkan judul berita dengan indeksnya\n",
    "indices = pd.Series(df_content.index, index=df_content['Title'])\n",
    "\n",
    "print(\"TF-IDF Matrix berhasil dibuat. Matriks kemiripan akan dihitung secara dinamis.\")"
   ]
  },
  {
   "cell_type": "markdown",
   "id": "33b0c721",
   "metadata": {},
   "source": [
    "### **Fungsi Rekomendasi Content-Based**"
   ]
  },
  {
   "cell_type": "code",
   "execution_count": 8,
   "id": "202923af",
   "metadata": {},
   "outputs": [
    {
     "name": "stdout",
     "output_type": "stream",
     "text": [
      "\n",
      "Rekomendasi untuk berita dengan judul: '50 Foods You Should Never Eat, According to Health Experts'\n"
     ]
    },
    {
     "data": {
      "application/vnd.microsoft.datawrangler.viewer.v0+json": {
       "columns": [
        {
         "name": "index",
         "rawType": "int64",
         "type": "integer"
        },
        {
         "name": "Title",
         "rawType": "object",
         "type": "string"
        },
        {
         "name": "Category",
         "rawType": "object",
         "type": "string"
        }
       ],
       "ref": "e749b31c-21e9-4288-9293-c106990b271e",
       "rows": [
        [
         "4734",
         "How Much Protein You Should Actually Eat in One Meal, According to Experts",
         "health"
        ],
        [
         "2078",
         "50 famous foods you should eat in your lifetime",
         "foodanddrink"
        ],
        [
         "5929",
         "50 Awful Foods That Should Never Be in Your Kitchen",
         "health"
        ],
        [
         "14023",
         "3 Foods You Should Eat at Breakfast If You Want to Lose Belly Fat, According to a Dietitian",
         "health"
        ],
        [
         "1603",
         "The 5 worst dishes you can eat at buffet, according to food safety experts",
         "health"
        ],
        [
         "29408",
         "10 Exercises You Should Never Do Again, According to Trainers",
         "health"
        ],
        [
         "31261",
         "100 Worst Foods to Eat When You're Sick",
         "health"
        ],
        [
         "13086",
         "21 Frozen Foods You Should Never Put in Your Cart",
         "health"
        ],
        [
         "629",
         "40 Health Symptoms You Should Never Ignore",
         "health"
        ],
        [
         "29449",
         "Heart Health Symptoms You Should Never Ignore",
         "health"
        ]
       ],
       "shape": {
        "columns": 2,
        "rows": 10
       }
      },
      "text/html": [
       "<div>\n",
       "<style scoped>\n",
       "    .dataframe tbody tr th:only-of-type {\n",
       "        vertical-align: middle;\n",
       "    }\n",
       "\n",
       "    .dataframe tbody tr th {\n",
       "        vertical-align: top;\n",
       "    }\n",
       "\n",
       "    .dataframe thead th {\n",
       "        text-align: right;\n",
       "    }\n",
       "</style>\n",
       "<table border=\"1\" class=\"dataframe\">\n",
       "  <thead>\n",
       "    <tr style=\"text-align: right;\">\n",
       "      <th></th>\n",
       "      <th>Title</th>\n",
       "      <th>Category</th>\n",
       "    </tr>\n",
       "  </thead>\n",
       "  <tbody>\n",
       "    <tr>\n",
       "      <th>4734</th>\n",
       "      <td>How Much Protein You Should Actually Eat in On...</td>\n",
       "      <td>health</td>\n",
       "    </tr>\n",
       "    <tr>\n",
       "      <th>2078</th>\n",
       "      <td>50 famous foods you should eat in your lifetime</td>\n",
       "      <td>foodanddrink</td>\n",
       "    </tr>\n",
       "    <tr>\n",
       "      <th>5929</th>\n",
       "      <td>50 Awful Foods That Should Never Be in Your Ki...</td>\n",
       "      <td>health</td>\n",
       "    </tr>\n",
       "    <tr>\n",
       "      <th>14023</th>\n",
       "      <td>3 Foods You Should Eat at Breakfast If You Wan...</td>\n",
       "      <td>health</td>\n",
       "    </tr>\n",
       "    <tr>\n",
       "      <th>1603</th>\n",
       "      <td>The 5 worst dishes you can eat at buffet, acco...</td>\n",
       "      <td>health</td>\n",
       "    </tr>\n",
       "    <tr>\n",
       "      <th>29408</th>\n",
       "      <td>10 Exercises You Should Never Do Again, Accord...</td>\n",
       "      <td>health</td>\n",
       "    </tr>\n",
       "    <tr>\n",
       "      <th>31261</th>\n",
       "      <td>100 Worst Foods to Eat When You're Sick</td>\n",
       "      <td>health</td>\n",
       "    </tr>\n",
       "    <tr>\n",
       "      <th>13086</th>\n",
       "      <td>21 Frozen Foods You Should Never Put in Your Cart</td>\n",
       "      <td>health</td>\n",
       "    </tr>\n",
       "    <tr>\n",
       "      <th>629</th>\n",
       "      <td>40 Health Symptoms You Should Never Ignore</td>\n",
       "      <td>health</td>\n",
       "    </tr>\n",
       "    <tr>\n",
       "      <th>29449</th>\n",
       "      <td>Heart Health Symptoms You Should Never Ignore</td>\n",
       "      <td>health</td>\n",
       "    </tr>\n",
       "  </tbody>\n",
       "</table>\n",
       "</div>"
      ],
      "text/plain": [
       "                                                   Title      Category\n",
       "4734   How Much Protein You Should Actually Eat in On...        health\n",
       "2078     50 famous foods you should eat in your lifetime  foodanddrink\n",
       "5929   50 Awful Foods That Should Never Be in Your Ki...        health\n",
       "14023  3 Foods You Should Eat at Breakfast If You Wan...        health\n",
       "1603   The 5 worst dishes you can eat at buffet, acco...        health\n",
       "29408  10 Exercises You Should Never Do Again, Accord...        health\n",
       "31261            100 Worst Foods to Eat When You're Sick        health\n",
       "13086  21 Frozen Foods You Should Never Put in Your Cart        health\n",
       "629           40 Health Symptoms You Should Never Ignore        health\n",
       "29449      Heart Health Symptoms You Should Never Ignore        health"
      ]
     },
     "metadata": {},
     "output_type": "display_data"
    }
   ],
   "source": [
    "def get_content_based_recommendations(title, tfidf_matrix, df, indices_map):\n",
    "    \"\"\"\n",
    "    Memberikan rekomendasi berita berdasarkan kemiripan konten secara dinamis.\n",
    "    \n",
    "    Args:\n",
    "        title (str): Judul berita yang menjadi referensi.\n",
    "        tfidf_matrix (scipy.sparse.matrix): Matriks TF-IDF dari semua berita.\n",
    "        df (DataFrame): DataFrame berisi data berita.\n",
    "        indices_map (pd.Series): Mapping dari judul ke indeks.\n",
    "        \n",
    "    Returns:\n",
    "        DataFrame: Daftar 10 berita yang direkomendasikan.\n",
    "    \"\"\"\n",
    "    try:\n",
    "        # Mendapatkan indeks dari judul berita yang diberikan\n",
    "        idx = indices_map[title]\n",
    "        \n",
    "        # Menghitung cosine similarity HANYA untuk item yang dipilih (idx) terhadap semua item lain\n",
    "        # Ini menghasilkan array (1, N) bukan (N, N), sehingga sangat hemat memori\n",
    "        cosine_sim_scores = cosine_similarity(tfidf_matrix[idx], tfidf_matrix)\n",
    "        \n",
    "        # Mengubahnya menjadi daftar skor\n",
    "        sim_scores = list(enumerate(cosine_sim_scores[0]))\n",
    "        \n",
    "        # Mengurutkan berita berdasarkan skor kemiripan\n",
    "        sim_scores = sorted(sim_scores, key=lambda x: x[1], reverse=True)\n",
    "        \n",
    "        # Mengambil 10 berita teratas (setelah berita referensi itu sendiri)\n",
    "        sim_scores = sim_scores[1:11]\n",
    "        \n",
    "        # Mendapatkan indeks dari berita yang direkomendasikan\n",
    "        news_indices = [i[0] for i in sim_scores]\n",
    "        \n",
    "        # Mengembalikan DataFrame dengan berita yang direkomendasikan\n",
    "        return df[['Title', 'Category']].iloc[news_indices]\n",
    "    \n",
    "    except KeyError:\n",
    "        return f\"Error: Judul '{title}' tidak ditemukan dalam dataset.\"\n",
    "\n",
    "# Contoh penggunaan\n",
    "news_title_example = df_content['Title'].iloc[10] \n",
    "print(f\"\\nRekomendasi untuk berita dengan judul: '{news_title_example}'\")\n",
    "\n",
    "# Panggil fungsi dengan tfidf_matrix, bukan cosine_sim\n",
    "recommendations = get_content_based_recommendations(news_title_example, tfidf_matrix, df_content, indices)\n",
    "display(recommendations)"
   ]
  },
  {
   "cell_type": "markdown",
   "id": "3e71a838",
   "metadata": {},
   "source": [
    "## **V. Modeling: Collaborative Filtering**\n",
    "Membuat model yang merekomendasikan berita berdasarkan interaksi pengguna."
   ]
  },
  {
   "cell_type": "code",
   "execution_count": 9,
   "id": "2b2eec06",
   "metadata": {},
   "outputs": [
    {
     "name": "stdout",
     "output_type": "stream",
     "text": [
      "Model SVD (Collaborative Filtering) berhasil dilatih.\n"
     ]
    }
   ],
   "source": [
    "# Menyiapkan data untuk Surprise\n",
    "# Menambahkan kolom 'rating' karena data kita implisit (klik = 1)\n",
    "df_interaction['Rating'] = 1\n",
    "\n",
    "# Inisialisasi Reader dari Surprise\n",
    "reader = Reader(rating_scale=(1, 1))\n",
    "\n",
    "# Memuat data ke dalam format dataset Surprise\n",
    "data_surprise = Dataset.load_from_df(df_interaction[['User_ID', 'News_ID', 'Rating']], reader)\n",
    "\n",
    "# Inisialisasi model SVD\n",
    "svd = SVD(n_factors=50, n_epochs=20, random_state=42)\n",
    "\n",
    "# Melatih model pada seluruh dataset\n",
    "trainset = data_surprise.build_full_trainset()\n",
    "svd.fit(trainset)\n",
    "\n",
    "print(\"Model SVD (Collaborative Filtering) berhasil dilatih.\")"
   ]
  },
  {
   "cell_type": "markdown",
   "id": "1fbf2966",
   "metadata": {},
   "source": [
    "### **Fungsi Rekomendasi Collaborative Filtering**"
   ]
  },
  {
   "cell_type": "code",
   "execution_count": 10,
   "id": "8b16ef0f",
   "metadata": {},
   "outputs": [
    {
     "name": "stdout",
     "output_type": "stream",
     "text": [
      "Rekomendasi untuk pengguna dengan ID: U46778\n"
     ]
    },
    {
     "data": {
      "application/vnd.microsoft.datawrangler.viewer.v0+json": {
       "columns": [
        {
         "name": "index",
         "rawType": "int64",
         "type": "integer"
        },
        {
         "name": "Title",
         "rawType": "object",
         "type": "string"
        },
        {
         "name": "Category",
         "rawType": "object",
         "type": "string"
        }
       ],
       "ref": "4aeadeeb-a2fb-4105-946b-d2cdea30ab30",
       "rows": [
        [
         "0",
         "The Brands Queen Elizabeth, Prince Charles, and Prince Philip Swear By",
         "lifestyle"
        ],
        [
         "1",
         "50 Worst Habits For Belly Fat",
         "health"
        ],
        [
         "2",
         "The Cost of Trump's Aid Freeze in the Trenches of Ukraine's War",
         "news"
        ],
        [
         "3",
         "I Was An NBA Wife. Here's How It Affected My Mental Health.",
         "health"
        ],
        [
         "4",
         "How to Get Rid of Skin Tags, According to a Dermatologist",
         "health"
        ],
        [
         "5",
         "Should NFL be able to fine players for criticizing officiating?",
         "sports"
        ],
        [
         "6",
         "It's been Orlando's hottest October ever so far, but cooler temperatures on the way",
         "weather"
        ],
        [
         "7",
         "Chile: Three die in supermarket fire amid protests",
         "news"
        ],
        [
         "8",
         "Best PS5 games: top PlayStation 5 titles to look forward to",
         "entertainment"
        ],
        [
         "9",
         "How to report weather-related closings, delays",
         "news"
        ]
       ],
       "shape": {
        "columns": 2,
        "rows": 10
       }
      },
      "text/html": [
       "<div>\n",
       "<style scoped>\n",
       "    .dataframe tbody tr th:only-of-type {\n",
       "        vertical-align: middle;\n",
       "    }\n",
       "\n",
       "    .dataframe tbody tr th {\n",
       "        vertical-align: top;\n",
       "    }\n",
       "\n",
       "    .dataframe thead th {\n",
       "        text-align: right;\n",
       "    }\n",
       "</style>\n",
       "<table border=\"1\" class=\"dataframe\">\n",
       "  <thead>\n",
       "    <tr style=\"text-align: right;\">\n",
       "      <th></th>\n",
       "      <th>Title</th>\n",
       "      <th>Category</th>\n",
       "    </tr>\n",
       "  </thead>\n",
       "  <tbody>\n",
       "    <tr>\n",
       "      <th>0</th>\n",
       "      <td>The Brands Queen Elizabeth, Prince Charles, an...</td>\n",
       "      <td>lifestyle</td>\n",
       "    </tr>\n",
       "    <tr>\n",
       "      <th>1</th>\n",
       "      <td>50 Worst Habits For Belly Fat</td>\n",
       "      <td>health</td>\n",
       "    </tr>\n",
       "    <tr>\n",
       "      <th>2</th>\n",
       "      <td>The Cost of Trump's Aid Freeze in the Trenches...</td>\n",
       "      <td>news</td>\n",
       "    </tr>\n",
       "    <tr>\n",
       "      <th>3</th>\n",
       "      <td>I Was An NBA Wife. Here's How It Affected My M...</td>\n",
       "      <td>health</td>\n",
       "    </tr>\n",
       "    <tr>\n",
       "      <th>4</th>\n",
       "      <td>How to Get Rid of Skin Tags, According to a De...</td>\n",
       "      <td>health</td>\n",
       "    </tr>\n",
       "    <tr>\n",
       "      <th>5</th>\n",
       "      <td>Should NFL be able to fine players for critici...</td>\n",
       "      <td>sports</td>\n",
       "    </tr>\n",
       "    <tr>\n",
       "      <th>6</th>\n",
       "      <td>It's been Orlando's hottest October ever so fa...</td>\n",
       "      <td>weather</td>\n",
       "    </tr>\n",
       "    <tr>\n",
       "      <th>7</th>\n",
       "      <td>Chile: Three die in supermarket fire amid prot...</td>\n",
       "      <td>news</td>\n",
       "    </tr>\n",
       "    <tr>\n",
       "      <th>8</th>\n",
       "      <td>Best PS5 games: top PlayStation 5 titles to lo...</td>\n",
       "      <td>entertainment</td>\n",
       "    </tr>\n",
       "    <tr>\n",
       "      <th>9</th>\n",
       "      <td>How to report weather-related closings, delays</td>\n",
       "      <td>news</td>\n",
       "    </tr>\n",
       "  </tbody>\n",
       "</table>\n",
       "</div>"
      ],
      "text/plain": [
       "                                               Title       Category\n",
       "0  The Brands Queen Elizabeth, Prince Charles, an...      lifestyle\n",
       "1                      50 Worst Habits For Belly Fat         health\n",
       "2  The Cost of Trump's Aid Freeze in the Trenches...           news\n",
       "3  I Was An NBA Wife. Here's How It Affected My M...         health\n",
       "4  How to Get Rid of Skin Tags, According to a De...         health\n",
       "5  Should NFL be able to fine players for critici...         sports\n",
       "6  It's been Orlando's hottest October ever so fa...        weather\n",
       "7  Chile: Three die in supermarket fire amid prot...           news\n",
       "8  Best PS5 games: top PlayStation 5 titles to lo...  entertainment\n",
       "9     How to report weather-related closings, delays           news"
      ]
     },
     "metadata": {},
     "output_type": "display_data"
    }
   ],
   "source": [
    "def get_collaborative_filtering_recommendations(user_id, model=svd, df_interact=df_interaction, df_n=df_news_cleaned):\n",
    "    \"\"\"\n",
    "    Memberikan rekomendasi berita untuk pengguna tertentu.\n",
    "    \n",
    "    Args:\n",
    "        user_id (str): ID pengguna.\n",
    "        model: Model Surprise yang sudah dilatih.\n",
    "        df_interact (DataFrame): DataFrame interaksi user-item.\n",
    "        df_n (DataFrame): DataFrame berisi data berita.\n",
    "        \n",
    "    Returns:\n",
    "        DataFrame: Daftar 10 berita yang direkomendasikan.\n",
    "    \"\"\"\n",
    "    # Mendapatkan daftar berita yang sudah dibaca oleh pengguna\n",
    "    read_news = df_interact[df_interact['User_ID'] == user_id]['News_ID'].unique()\n",
    "    \n",
    "    # Mendapatkan daftar semua berita unik\n",
    "    all_news = df_n['News_ID'].unique()\n",
    "    \n",
    "    # Mendapatkan daftar berita yang belum dibaca oleh pengguna\n",
    "    unread_news = [news for news in all_news if news not in read_news]\n",
    "    \n",
    "    # Memprediksi rating untuk berita yang belum dibaca\n",
    "    predictions = [model.predict(user_id, news_id) for news_id in unread_news]\n",
    "    \n",
    "    # Mengurutkan prediksi berdasarkan estimasi rating tertinggi\n",
    "    predictions.sort(key=lambda x: x.est, reverse=True)\n",
    "    \n",
    "    # Mengambil 10 rekomendasi teratas\n",
    "    top_n_preds = predictions[:10]\n",
    "    \n",
    "    # Mendapatkan ID berita dari rekomendasi\n",
    "    top_n_news_ids = [pred.iid for pred in top_n_preds]\n",
    "    \n",
    "    # Mengembalikan detail berita dari ID yang direkomendasikan\n",
    "    return df_n[df_n['News_ID'].isin(top_n_news_ids)][['Title', 'Category']]\n",
    "\n",
    "\n",
    "# Contoh penggunaan\n",
    "user_id_example = df_interaction['User_ID'].iloc[0]\n",
    "print(f\"Rekomendasi untuk pengguna dengan ID: {user_id_example}\")\n",
    "display(get_collaborative_filtering_recommendations(user_id_example))"
   ]
  },
  {
   "cell_type": "markdown",
   "id": "f453c016",
   "metadata": {},
   "source": [
    "## **VI. Evaluation**\n",
    "Mengevaluasi model rekomendasi menggunakan metrik **Precision@k**. Metrik ini dipilih karena sangat relevan untuk skenario Top-N recommendation, di mana tujuannya adalah menyajikan beberapa item teratas yang paling mungkin disukai pengguna. Kita akan mengevaluasi kedua model untuk membandingkan performanya."
   ]
  },
  {
   "cell_type": "markdown",
   "id": "78ee4ad8",
   "metadata": {},
   "source": [
    "### **Evaluasi untuk Collaborative Filtering**\n",
    "Mengevaluasi model Collaborative Filtering menggunakan metrik Precision@k."
   ]
  },
  {
   "cell_type": "code",
   "execution_count": 12,
   "id": "68b4bc5c",
   "metadata": {},
   "outputs": [
    {
     "name": "stdout",
     "output_type": "stream",
     "text": [
      "Hasil evaluasi model Collaborative Filtering:\n",
      "Precision@10 = 0.5312\n"
     ]
    }
   ],
   "source": [
    "def precision_at_k(predictions, k=10, threshold=0.8):\n",
    "    \"\"\"\n",
    "    Menghitung Precision@k dari daftar prediksi.\n",
    "\n",
    "    Args:\n",
    "        predictions (list): Daftar objek prediksi dari Surprise.\n",
    "        k (int): Jumlah item rekomendasi.\n",
    "        threshold (float): Batas rating untuk dianggap relevan (karena rating kita 1, threshold bisa < 1).\n",
    "\n",
    "    Returns:\n",
    "        float: Nilai Precision@k.\n",
    "    \"\"\"\n",
    "    # Membuat map dari user ke list (est, true_r)\n",
    "    user_est_true = defaultdict(list)\n",
    "    for pred in predictions:\n",
    "        user_est_true[pred.uid].append((pred.est, pred.r_ui))\n",
    "\n",
    "    precisions = dict()\n",
    "    for uid, user_ratings in user_est_true.items():\n",
    "        # Mengurutkan berdasarkan prediksi rating tertinggi\n",
    "        user_ratings.sort(key=lambda x: x[0], reverse=True)\n",
    "        # Menghitung jumlah item relevan di antara k rekomendasi teratas\n",
    "        n_rel = sum((true_r >= threshold) for (_, true_r) in user_ratings[:k])\n",
    "        # Menghitung precision untuk pengguna ini\n",
    "        precisions[uid] = n_rel / k\n",
    "\n",
    "    # Mengembalikan rata-rata precision dari semua pengguna\n",
    "    return sum(prec for prec in precisions.values()) / len(precisions)\n",
    "\n",
    "# Membagi data menjadi train dan test set\n",
    "trainset, testset = surprise_train_test_split(data_surprise, test_size=0.2, random_state=42)\n",
    "\n",
    "# Melatih model SVD pada trainset\n",
    "svd_eval = SVD(n_factors=50, n_epochs=20, random_state=42)\n",
    "svd_eval.fit(trainset)\n",
    "\n",
    "# Membuat prediksi pada testset\n",
    "predictions = svd_eval.test(testset)\n",
    "\n",
    "# Menghitung Precision@10\n",
    "p_at_10 = precision_at_k(predictions, k=10)\n",
    "print(f\"Hasil evaluasi model Collaborative Filtering:\")\n",
    "print(f\"Precision@10 = {p_at_10:.4f}\")"
   ]
  },
  {
   "cell_type": "markdown",
   "id": "70c29934",
   "metadata": {},
   "source": [
    "### **Evaluasi untuk Content-Based Filtering**\n",
    "Untuk mengevaluasi model Content-Based, kita akan menyimulasikan skenario berikut:\n",
    "1.  Kita ambil riwayat baca setiap pengguna.\n",
    "2.  Satu berita dari riwayatnya akan kita gunakan sebagai *input* untuk mendapatkan rekomendasi.\n",
    "3.  Sisa riwayat bacanya akan kita anggap sebagai *ground truth* (berita yang relevan).\n",
    "4.  Kita hitung berapa banyak dari berita yang direkomendasikan yang cocok dengan *ground truth* menggunakan metrik **Precision@10**."
   ]
  },
  {
   "cell_type": "code",
   "execution_count": null,
   "id": "699d33aa",
   "metadata": {},
   "outputs": [],
   "source": [
    "def evaluate_content_based_model(df_interaction, tfidf_matrix, df_content, indices_map, k=10):\n",
    "    \"\"\"\n",
    "    Mengevaluasi model Content-Based Filtering menggunakan Precision@k.\n",
    "    \"\"\"\n",
    "    # Membuat dictionary riwayat baca per pengguna\n",
    "    user_history = df_interaction.groupby('User_ID')['News_ID'].apply(list).to_dict()\n",
    "    \n",
    "    precisions = []\n",
    "    \n",
    "    # Ambil sampel user untuk evaluasi agar tidak terlalu lama\n",
    "    user_ids_to_evaluate = list(user_history.keys())[:500] # Evaluasi pada 500 user pertama\n",
    "    \n",
    "    for user_id in user_ids_to_evaluate:\n",
    "        history = user_history[user_id]\n",
    "        \n",
    "        if len(history) > 1:\n",
    "            # Gunakan item pertama sebagai source, sisanya ground truth\n",
    "            source_news_id = history[0]\n",
    "            ground_truth_ids = set(history[1:])\n",
    "            \n",
    "            # Dapatkan judul dari source_news_id\n",
    "            try:\n",
    "                source_title = df_content[df_content['News_ID'] == source_news_id]['Title'].values[0]\n",
    "            except IndexError:\n",
    "                continue # Skip jika berita tidak ada di df_content (karena pembersihan/sampling)\n",
    "                \n",
    "            # Dapatkan rekomendasi\n",
    "            recommendations_df = get_content_based_recommendations(source_title, tfidf_matrix, df_content, indices_map)\n",
    "            \n",
    "            # Jika rekomendasi valid (bukan string error)\n",
    "            if isinstance(recommendations_df, pd.DataFrame):\n",
    "                recommended_ids = set(df_content.loc[recommendations_df.index]['News_ID'])\n",
    "                \n",
    "                # Hitung jumlah item yang relevan (hits)\n",
    "                hits = len(recommended_ids.intersection(ground_truth_ids))\n",
    "                \n",
    "                # Hitung precision\n",
    "                precision = hits / k\n",
    "                precisions.append(precision)\n",
    "\n",
    "    # Rata-rata precision dari semua pengguna yang dievaluasi\n",
    "    if not precisions:\n",
    "        return 0.0\n",
    "    return np.mean(precisions)\n",
    "\n",
    "# Menghitung Precision@10 untuk model Content-Based\n",
    "cb_precision = evaluate_content_based_model(df_interaction, tfidf_matrix, df_content, indices)\n",
    "print(f\"Hasil evaluasi model Content-Based Filtering:\")\n",
    "print(f\"Precision@10 = {cb_precision:.4f}\")"
   ]
  }
 ],
 "metadata": {
  "kernelspec": {
   "display_name": "base",
   "language": "python",
   "name": "python3"
  },
  "language_info": {
   "codemirror_mode": {
    "name": "ipython",
    "version": 3
   },
   "file_extension": ".py",
   "mimetype": "text/x-python",
   "name": "python",
   "nbconvert_exporter": "python",
   "pygments_lexer": "ipython3",
   "version": "3.10.9"
  }
 },
 "nbformat": 4,
 "nbformat_minor": 5
}
