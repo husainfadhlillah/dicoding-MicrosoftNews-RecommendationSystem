{
 "cells": [
  {
   "cell_type": "markdown",
   "id": "af0fbea7",
   "metadata": {},
   "source": [
    "# **Proyek Akhir: Membuat Model Sistem Rekomendasi Berita**"
   ]
  },
  {
   "cell_type": "markdown",
   "id": "a351e1f7",
   "metadata": {},
   "source": [
    "- **Nama:** Muhammad Husain Fadhlillah\n",
    "- **Email Student:** mc006d5y2343@student.devacademy.id\n",
    "- **Cohort ID:** MC006D5Y2343"
   ]
  },
  {
   "cell_type": "markdown",
   "id": "f22f3b23",
   "metadata": {},
   "source": [
    "## **I. Pendahuluan**\n",
    "Proyek ini bertujuan untuk membangun sistem rekomendasi berita menggunakan dua pendekatan utama: **Content-Based Filtering** dan **Collaborative Filtering**. Tujuannya adalah memberikan rekomendasi yang dipersonalisasi kepada pengguna berdasarkan konten berita dan riwayat interaksi mereka."
   ]
  },
  {
   "cell_type": "markdown",
   "id": "628d3e2e",
   "metadata": {},
   "source": [
    "### **Menyiapkan Library yang Dibutuhkan**"
   ]
  },
  {
   "cell_type": "code",
   "execution_count": null,
   "id": "f6b36e83",
   "metadata": {},
   "outputs": [],
   "source": [
    "# Library untuk analisis dan manipulasi data\n",
    "import pandas as pd\n",
    "import numpy as np\n",
    "from collections import defaultdict\n",
    "\n",
    "# Library untuk visualisasi data\n",
    "import matplotlib.pyplot as plt\n",
    "import seaborn as sns\n",
    "\n",
    "# Library untuk pemodelan Content-Based Filtering\n",
    "from sklearn.feature_extraction.text import TfidfVectorizer\n",
    "from sklearn.metrics.pairwise import cosine_similarity\n",
    "\n",
    "# Library untuk pemodelan Collaborative Filtering\n",
    "# Pastikan sudah menginstal: pip install scikit-surprise\n",
    "from surprise import Reader, Dataset, SVD\n",
    "from surprise.model_selection import train_test_split as surprise_train_test_split\n",
    "\n",
    "# Mengatur opsi tampilan pandas\n",
    "pd.set_option('display.max_columns', None)\n",
    "\n",
    "print(\"Semua library berhasil diimpor.\")"
   ]
  },
  {
   "cell_type": "markdown",
   "id": "9c96acca",
   "metadata": {},
   "source": [
    "## **II. Data Understanding**\n",
    "Tahap ini berfokus pada pemuatan dan pemahaman awal terhadap dataset. Kita akan menggunakan dataset MIND-small dari Kaggle."
   ]
  },
  {
   "cell_type": "markdown",
   "id": "be0d06cb",
   "metadata": {},
   "source": [
    "### **Memuat Dataset**\n",
    "Kita akan memuat file `news.tsv` dan `behaviors.tsv` ke dalam DataFrame pandas."
   ]
  },
  {
   "cell_type": "code",
   "execution_count": null,
   "id": "5497a253",
   "metadata": {},
   "outputs": [],
   "source": [
    "# Fungsi untuk memuat data dengan penanganan error\n",
    "def load_data(file_path, column_names):\n",
    "    \"\"\"\n",
    "    Memuat data dari file TSV ke dalam DataFrame pandas.\n",
    "    \n",
    "    Args:\n",
    "        file_path (str): Path ke file tsv.\n",
    "        column_names (list): Daftar nama kolom untuk DataFrame.\n",
    "    \n",
    "    Returns:\n",
    "        DataFrame: DataFrame yang berisi data dari file.\n",
    "    \"\"\"\n",
    "    try:\n",
    "        df = pd.read_csv(file_path, sep='\\t', names=column_names)\n",
    "        print(f\"File '{file_path}' berhasil dimuat.\")\n",
    "        return df\n",
    "    except FileNotFoundError:\n",
    "        print(f\"Error: File '{file_path}' tidak ditemukan. Pastikan path file sudah benar.\")\n",
    "        return None\n",
    "\n",
    "# Path ke file dataset (sesuaikan jika perlu)\n",
    "path_to_news = './MINDsmall_train/news.tsv'\n",
    "path_to_behaviors = './MINDsmall_train/behaviors.tsv'\n",
    "\n",
    "# Mendefinisikan nama kolom berdasarkan dokumentasi dataset\n",
    "news_cols = ['News_ID', 'Category', 'SubCategory', 'Title', 'Abstract', 'URL', 'Title_Entities', 'Abstract_Entities']\n",
    "behaviors_cols = ['Impression_ID', 'User_ID', 'Time', 'History', 'Impressions']\n",
    "\n",
    "# Memuat data\n",
    "df_news = load_data(path_to_news, news_cols)\n",
    "df_behaviors = load_data(path_to_behaviors, behaviors_cols)"
   ]
  },
  {
   "cell_type": "markdown",
   "id": "53601073",
   "metadata": {},
   "source": [
    "### **Informasi Dasar Dataset**\n",
    "Melihat beberapa baris pertama, informasi, dan statistik deskriptif dari data."
   ]
  },
  {
   "cell_type": "code",
   "execution_count": null,
   "id": "53752569",
   "metadata": {},
   "outputs": [],
   "source": [
    "# Menampilkan 5 baris pertama dari data berita\n",
    "if df_news is not None:\n",
    "    print(\"Contoh Data Berita (df_news):\")\n",
    "    display(df_news.head())\n",
    "\n",
    "# Menampilkan 5 baris pertama dari data perilaku\n",
    "if df_behaviors is not None:\n",
    "    print(\"\\nContoh Data Perilaku (df_behaviors):\")\n",
    "    display(df_behaviors.head())"
   ]
  },
  {
   "cell_type": "code",
   "execution_count": null,
   "id": "76bf7f39",
   "metadata": {},
   "outputs": [],
   "source": [
    "# Menampilkan informasi ringkas tentang DataFrame berita\n",
    "if df_news is not None:\n",
    "    print(\"Informasi df_news:\")\n",
    "    df_news.info()\n",
    "\n",
    "# Menampilkan informasi ringkas tentang DataFrame perilaku\n",
    "if df_behaviors is not None:\n",
    "    print(\"\\nInformasi df_behaviors:\")\n",
    "    df_behaviors.info()"
   ]
  },
  {
   "cell_type": "markdown",
   "id": "63f5ac54",
   "metadata": {},
   "source": [
    "### **Exploratory Data Analysis (EDA)**\n",
    "Melakukan analisis data eksplorasi untuk memahami distribusi data."
   ]
  },
  {
   "cell_type": "markdown",
   "id": "b79f63c3",
   "metadata": {},
   "source": [
    "#### **Distribusi Kategori Berita**"
   ]
  },
  {
   "cell_type": "code",
   "execution_count": null,
   "id": "d0d1067a",
   "metadata": {},
   "outputs": [],
   "source": [
    "if df_news is not None:\n",
    "    plt.figure(figsize=(12, 6))\n",
    "    sns.countplot(y='Category', data=df_news, order=df_news['Category'].value_counts().index)\n",
    "    plt.title('Distribusi Kategori Berita')\n",
    "    plt.xlabel('Jumlah Artikel')\n",
    "    plt.ylabel('Kategori')\n",
    "    plt.show()"
   ]
  },
  {
   "cell_type": "markdown",
   "id": "ffd994ee",
   "metadata": {},
   "source": [
    "## **III. Data Preparation**\n",
    "Menyiapkan data agar siap untuk proses pemodelan."
   ]
  },
  {
   "cell_type": "markdown",
   "id": "8e5cbff7",
   "metadata": {},
   "source": [
    "### **Membersihkan dan Menggabungkan Data**\n",
    "Kita akan membersihkan data dari nilai null dan menggabungkan informasi yang relevan."
   ]
  },
  {
   "cell_type": "code",
   "execution_count": null,
   "id": "7c8e421a",
   "metadata": {},
   "outputs": [],
   "source": [
    "if df_news is not None and df_behaviors is not None:\n",
    "    # Membersihkan data berita dari nilai null pada kolom penting\n",
    "    df_news_cleaned = df_news.dropna(subset=['Title', 'Category'])\n",
    "    print(f\"Jumlah data berita setelah dibersihkan: {len(df_news_cleaned)}\")\n",
    "\n",
    "    # Mengambil sampel data perilaku untuk mempercepat proses (opsional, bisa di-skip jika komputasi kuat)\n",
    "    df_behaviors_sample = df_behaviors.sample(n=50000, random_state=42)\n",
    "\n",
    "    # Memproses kolom 'History' untuk mendapatkan interaksi user-item\n",
    "    user_history_list = []\n",
    "    for index, row in df_behaviors_sample.iterrows():\n",
    "        if isinstance(row['History'], str):\n",
    "            history_ids = row['History'].split()\n",
    "            for news_id in history_ids:\n",
    "                user_history_list.append({'User_ID': row['User_ID'], 'News_ID': news_id})\n",
    "\n",
    "    df_interaction = pd.DataFrame(user_history_list)\n",
    "    print(\"Contoh data interaksi dari 'History':\")\n",
    "    display(df_interaction.head())\n",
    "\n",
    "    # Menggabungkan data interaksi dengan data berita\n",
    "    df_full_interaction = pd.merge(df_interaction, df_news_cleaned, on='News_ID', how='inner')\n",
    "    print(\"Contoh data interaksi yang sudah digabungkan dengan detail berita:\")\n",
    "    display(df_full_interaction.head())"
   ]
  },
  {
   "cell_type": "markdown",
   "id": "035782ac",
   "metadata": {},
   "source": [
    "## **IV. Modeling: Content-Based Filtering**\n",
    "Membuat model yang merekomendasikan berita berdasarkan kemiripan konten."
   ]
  },
  {
   "cell_type": "code",
   "execution_count": null,
   "id": "ee6916a3",
   "metadata": {},
   "outputs": [],
   "source": [
    "# Mengambil data berita unik untuk model content-based\n",
    "df_content = df_news_cleaned.drop_duplicates(subset=['News_ID']).reset_index(drop=True)\n",
    "\n",
    "# Membuat fitur 'content' dengan menggabungkan judul dan kategori\n",
    "df_content['content'] = df_content['Title'] + ' ' + df_content['Category']\n",
    "\n",
    "# Inisialisasi TfidfVectorizer\n",
    "tfidf = TfidfVectorizer()\n",
    "\n",
    "# Melakukan fit dan transform pada data 'content'\n",
    "tfidf_matrix = tfidf.fit_transform(df_content['content'])\n",
    "\n",
    "# Menghitung cosine similarity dari tfidf_matrix\n",
    "cosine_sim = cosine_similarity(tfidf_matrix)\n",
    "\n",
    "# Membuat Series untuk mencocokkan judul berita dengan indeksnya\n",
    "indices = pd.Series(df_content.index, index=df_content['Title'])\n",
    "\n",
    "print(\"TF-IDF dan Cosine Similarity Matrix berhasil dibuat.\")"
   ]
  },
  {
   "cell_type": "markdown",
   "id": "33b0c721",
   "metadata": {},
   "source": [
    "### **Fungsi Rekomendasi Content-Based**"
   ]
  },
  {
   "cell_type": "code",
   "execution_count": null,
   "id": "202923af",
   "metadata": {},
   "outputs": [],
   "source": [
    "def get_content_based_recommendations(title, cosine_sim_matrix=cosine_sim, df=df_content, indices_map=indices):\n",
    "    \"\"\"\n",
    "    Memberikan rekomendasi berita berdasarkan kemiripan konten.\n",
    "    \n",
    "    Args:\n",
    "        title (str): Judul berita yang menjadi referensi.\n",
    "        cosine_sim_matrix (np.ndarray): Matriks kemiripan kosinus.\n",
    "        df (DataFrame): DataFrame berisi data berita.\n",
    "        indices_map (pd.Series): Mapping dari judul ke indeks.\n",
    "        \n",
    "    Returns:\n",
    "        DataFrame: Daftar 10 berita yang direkomendasikan.\n",
    "    \"\"\"\n",
    "    try:\n",
    "        # Mendapatkan indeks dari judul berita yang diberikan\n",
    "        idx = indices_map[title]\n",
    "        \n",
    "        # Mendapatkan skor kemiripan dari semua berita terhadap berita referensi\n",
    "        sim_scores = list(enumerate(cosine_sim_matrix[idx]))\n",
    "        \n",
    "        # Mengurutkan berita berdasarkan skor kemiripan\n",
    "        sim_scores = sorted(sim_scores, key=lambda x: x[1], reverse=True)\n",
    "        \n",
    "        # Mengambil 10 berita teratas (setelah berita referensi itu sendiri)\n",
    "        sim_scores = sim_scores[1:11]\n",
    "        \n",
    "        # Mendapatkan indeks dari berita yang direkomendasikan\n",
    "        news_indices = [i[0] for i in sim_scores]\n",
    "        \n",
    "        # Mengembalikan DataFrame dengan berita yang direkomendasikan\n",
    "        return df[['Title', 'Category']].iloc[news_indices]\n",
    "    \n",
    "    except KeyError:\n",
    "        return f\"Error: Judul '{title}' tidak ditemukan dalam dataset.\"\n",
    "\n",
    "# Contoh penggunaan\n",
    "news_title_example = df_content['Title'].iloc[10]\n",
    "print(f\"Rekomendasi untuk berita dengan judul: '{news_title_example}'\")\n",
    "display(get_content_based_recommendations(news_title_example))"
   ]
  },
  {
   "cell_type": "markdown",
   "id": "3e71a838",
   "metadata": {},
   "source": [
    "## **V. Modeling: Collaborative Filtering**\n",
    "Membuat model yang merekomendasikan berita berdasarkan interaksi pengguna."
   ]
  },
  {
   "cell_type": "code",
   "execution_count": null,
   "id": "2b2eec06",
   "metadata": {},
   "outputs": [],
   "source": [
    "# Menyiapkan data untuk Surprise\n",
    "# Menambahkan kolom 'rating' karena data kita implisit (klik = 1)\n",
    "df_interaction['Rating'] = 1\n",
    "\n",
    "# Inisialisasi Reader dari Surprise\n",
    "reader = Reader(rating_scale=(1, 1))\n",
    "\n",
    "# Memuat data ke dalam format dataset Surprise\n",
    "data_surprise = Dataset.load_from_df(df_interaction[['User_ID', 'News_ID', 'Rating']], reader)\n",
    "\n",
    "# Inisialisasi model SVD\n",
    "svd = SVD(n_factors=50, n_epochs=20, random_state=42)\n",
    "\n",
    "# Melatih model pada seluruh dataset\n",
    "trainset = data_surprise.build_full_trainset()\n",
    "svd.fit(trainset)\n",
    "\n",
    "print(\"Model SVD (Collaborative Filtering) berhasil dilatih.\")"
   ]
  },
  {
   "cell_type": "markdown",
   "id": "1fbf2966",
   "metadata": {},
   "source": [
    "### **Fungsi Rekomendasi Collaborative Filtering**"
   ]
  },
  {
   "cell_type": "code",
   "execution_count": null,
   "id": "8b16ef0f",
   "metadata": {},
   "outputs": [],
   "source": [
    "def get_collaborative_filtering_recommendations(user_id, model=svd, df_interact=df_interaction, df_n=df_news_cleaned):\n",
    "    \"\"\"\n",
    "    Memberikan rekomendasi berita untuk pengguna tertentu.\n",
    "    \n",
    "    Args:\n",
    "        user_id (str): ID pengguna.\n",
    "        model: Model Surprise yang sudah dilatih.\n",
    "        df_interact (DataFrame): DataFrame interaksi user-item.\n",
    "        df_n (DataFrame): DataFrame berisi data berita.\n",
    "        \n",
    "    Returns:\n",
    "        DataFrame: Daftar 10 berita yang direkomendasikan.\n",
    "    \"\"\"\n",
    "    # Mendapatkan daftar berita yang sudah dibaca oleh pengguna\n",
    "    read_news = df_interact[df_interact['User_ID'] == user_id]['News_ID'].unique()\n",
    "    \n",
    "    # Mendapatkan daftar semua berita unik\n",
    "    all_news = df_n['News_ID'].unique()\n",
    "    \n",
    "    # Mendapatkan daftar berita yang belum dibaca oleh pengguna\n",
    "    unread_news = [news for news in all_news if news not in read_news]\n",
    "    \n",
    "    # Memprediksi rating untuk berita yang belum dibaca\n",
    "    predictions = [model.predict(user_id, news_id) for news_id in unread_news]\n",
    "    \n",
    "    # Mengurutkan prediksi berdasarkan estimasi rating tertinggi\n",
    "    predictions.sort(key=lambda x: x.est, reverse=True)\n",
    "    \n",
    "    # Mengambil 10 rekomendasi teratas\n",
    "    top_n_preds = predictions[:10]\n",
    "    \n",
    "    # Mendapatkan ID berita dari rekomendasi\n",
    "    top_n_news_ids = [pred.iid for pred in top_n_preds]\n",
    "    \n",
    "    # Mengembalikan detail berita dari ID yang direkomendasikan\n",
    "    return df_n[df_n['News_ID'].isin(top_n_news_ids)][['Title', 'Category']]\n",
    "\n",
    "\n",
    "# Contoh penggunaan\n",
    "user_id_example = df_interaction['User_ID'].iloc[0]\n",
    "print(f\"Rekomendasi untuk pengguna dengan ID: {user_id_example}\")\n",
    "display(get_collaborative_filtering_recommendations(user_id_example))"
   ]
  },
  {
   "cell_type": "markdown",
   "id": "f453c016",
   "metadata": {},
   "source": [
    "## **VI. Evaluation**\n",
    "Mengevaluasi model Collaborative Filtering menggunakan metrik Precision@k."
   ]
  },
  {
   "cell_type": "code",
   "execution_count": null,
   "id": "68b4bc5c",
   "metadata": {},
   "outputs": [],
   "source": [
    "def precision_at_k(predictions, k=10, threshold=0.8):\n",
    "    \"\"\"\n",
    "    Menghitung Precision@k dari daftar prediksi.\n",
    "    \n",
    "    Args:\n",
    "        predictions (list): Daftar objek prediksi dari Surprise.\n",
    "        k (int): Jumlah item rekomendasi.\n",
    "        threshold (float): Batas rating untuk dianggap relevan (karena rating kita 1, threshold bisa < 1).\n",
    "        \n",
    "    Returns:\n",
    "        float: Nilai Precision@k.\n",
    "    \"\"\"\n",
    "    # Membuat map dari user ke item yang benar-benar mereka sukai (ground truth)\n",
    "    user_est_true = defaultdict(list)\n",
    "    for uid, _, true_r, _, _ in predictions:\n",
    "        user_est_true[uid].append((true_r, _))\n",
    "\n",
    "    precisions = dict()\n",
    "    for uid, user_ratings in user_est_true.items():\n",
    "        # Mengurutkan rating pengguna berdasarkan prediksi\n",
    "        user_ratings.sort(key=lambda x: x[1], reverse=True)\n",
    "        \n",
    "        # Menghitung jumlah item relevan di antara k rekomendasi teratas\n",
    "        n_rel = sum((true_r >= threshold) for (true_r, _) in user_ratings[:k])\n",
    "        \n",
    "        # Menghitung precision untuk pengguna ini\n",
    "        precisions[uid] = n_rel / k\n",
    "\n",
    "    # Mengembalikan rata-rata precision dari semua pengguna\n",
    "    return sum(prec for prec in precisions.values()) / len(precisions)\n",
    "\n",
    "# Membagi data menjadi train dan test set\n",
    "trainset, testset = surprise_train_test_split(data_surprise, test_size=0.2, random_state=42)\n",
    "\n",
    "# Melatih model SVD pada trainset\n",
    "svd_eval = SVD(n_factors=50, n_epochs=20, random_state=42)\n",
    "svd_eval.fit(trainset)\n",
    "\n",
    "# Membuat prediksi pada testset\n",
    "predictions = svd_eval.test(testset)\n",
    "\n",
    "# Menghitung Precision@10\n",
    "p_at_10 = precision_at_k(predictions, k=10)\n",
    "print(f\"Hasil evaluasi model Collaborative Filtering:\")\n",
    "print(f\"Precision@10 = {p_at_10:.4f}\")"
   ]
  }
 ],
 "metadata": {
  "kernelspec": {
   "display_name": "base",
   "language": "python",
   "name": "python3"
  },
  "language_info": {
   "name": "python",
   "version": "3.10.9"
  }
 },
 "nbformat": 4,
 "nbformat_minor": 5
}
